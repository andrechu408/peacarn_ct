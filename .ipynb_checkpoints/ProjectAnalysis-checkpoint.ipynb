{
 "cells": [
  {
   "cell_type": "markdown",
   "id": "8aa4ae6a-e132-4a43-9a78-835a9b3e1b70",
   "metadata": {},
   "source": [
    "Step 1: Load data"
   ]
  },
  {
   "cell_type": "code",
   "execution_count": 2,
   "id": "c2d12bdd-5b96-4f09-aaac-6f04fa11a740",
   "metadata": {},
   "outputs": [
    {
     "name": "stdout",
     "output_type": "stream",
     "text": [
      "Main dataset shape: (43399, 125)\n",
      "Number of columns: 125\n",
      "First 10 columns: ['PatNum', 'EmplType', 'Certification', 'InjuryMech', 'High_impact_InjSev', 'Amnesia_verb', 'LOCSeparate', 'LocLen', 'Seiz', 'SeizOccur']\n",
      "PatNum                  int64\n",
      "EmplType              float64\n",
      "Certification           int64\n",
      "InjuryMech            float64\n",
      "High_impact_InjSev    float64\n",
      "dtype: object\n"
     ]
    },
    {
     "data": {
      "text/html": [
       "<div>\n",
       "<style scoped>\n",
       "    .dataframe tbody tr th:only-of-type {\n",
       "        vertical-align: middle;\n",
       "    }\n",
       "\n",
       "    .dataframe tbody tr th {\n",
       "        vertical-align: top;\n",
       "    }\n",
       "\n",
       "    .dataframe thead th {\n",
       "        text-align: right;\n",
       "    }\n",
       "</style>\n",
       "<table border=\"1\" class=\"dataframe\">\n",
       "  <thead>\n",
       "    <tr style=\"text-align: right;\">\n",
       "      <th></th>\n",
       "      <th>PatNum</th>\n",
       "      <th>EmplType</th>\n",
       "      <th>Certification</th>\n",
       "      <th>InjuryMech</th>\n",
       "      <th>High_impact_InjSev</th>\n",
       "      <th>Amnesia_verb</th>\n",
       "      <th>LOCSeparate</th>\n",
       "      <th>LocLen</th>\n",
       "      <th>Seiz</th>\n",
       "      <th>SeizOccur</th>\n",
       "      <th>...</th>\n",
       "      <th>Finding20</th>\n",
       "      <th>Finding21</th>\n",
       "      <th>Finding22</th>\n",
       "      <th>Finding23</th>\n",
       "      <th>DeathTBI</th>\n",
       "      <th>HospHead</th>\n",
       "      <th>HospHeadPosCT</th>\n",
       "      <th>Intub24Head</th>\n",
       "      <th>Neurosurgery</th>\n",
       "      <th>PosIntFinal</th>\n",
       "    </tr>\n",
       "  </thead>\n",
       "  <tbody>\n",
       "    <tr>\n",
       "      <th>0</th>\n",
       "      <td>1</td>\n",
       "      <td>3.0</td>\n",
       "      <td>3</td>\n",
       "      <td>11.0</td>\n",
       "      <td>2.0</td>\n",
       "      <td>0.0</td>\n",
       "      <td>0.0</td>\n",
       "      <td>92.0</td>\n",
       "      <td>0.0</td>\n",
       "      <td>92.0</td>\n",
       "      <td>...</td>\n",
       "      <td>92</td>\n",
       "      <td>92</td>\n",
       "      <td>92</td>\n",
       "      <td>92</td>\n",
       "      <td>0.0</td>\n",
       "      <td>0.0</td>\n",
       "      <td>0</td>\n",
       "      <td>0.0</td>\n",
       "      <td>0.0</td>\n",
       "      <td>0.0</td>\n",
       "    </tr>\n",
       "    <tr>\n",
       "      <th>1</th>\n",
       "      <td>2</td>\n",
       "      <td>5.0</td>\n",
       "      <td>3</td>\n",
       "      <td>8.0</td>\n",
       "      <td>2.0</td>\n",
       "      <td>0.0</td>\n",
       "      <td>0.0</td>\n",
       "      <td>92.0</td>\n",
       "      <td>0.0</td>\n",
       "      <td>92.0</td>\n",
       "      <td>...</td>\n",
       "      <td>0</td>\n",
       "      <td>0</td>\n",
       "      <td>0</td>\n",
       "      <td>0</td>\n",
       "      <td>0.0</td>\n",
       "      <td>0.0</td>\n",
       "      <td>0</td>\n",
       "      <td>0.0</td>\n",
       "      <td>0.0</td>\n",
       "      <td>0.0</td>\n",
       "    </tr>\n",
       "    <tr>\n",
       "      <th>2</th>\n",
       "      <td>3</td>\n",
       "      <td>5.0</td>\n",
       "      <td>3</td>\n",
       "      <td>5.0</td>\n",
       "      <td>2.0</td>\n",
       "      <td>NaN</td>\n",
       "      <td>NaN</td>\n",
       "      <td>92.0</td>\n",
       "      <td>NaN</td>\n",
       "      <td>92.0</td>\n",
       "      <td>...</td>\n",
       "      <td>0</td>\n",
       "      <td>0</td>\n",
       "      <td>0</td>\n",
       "      <td>0</td>\n",
       "      <td>0.0</td>\n",
       "      <td>1.0</td>\n",
       "      <td>0</td>\n",
       "      <td>0.0</td>\n",
       "      <td>0.0</td>\n",
       "      <td>0.0</td>\n",
       "    </tr>\n",
       "    <tr>\n",
       "      <th>3</th>\n",
       "      <td>4</td>\n",
       "      <td>5.0</td>\n",
       "      <td>3</td>\n",
       "      <td>6.0</td>\n",
       "      <td>1.0</td>\n",
       "      <td>91.0</td>\n",
       "      <td>0.0</td>\n",
       "      <td>92.0</td>\n",
       "      <td>0.0</td>\n",
       "      <td>92.0</td>\n",
       "      <td>...</td>\n",
       "      <td>92</td>\n",
       "      <td>92</td>\n",
       "      <td>92</td>\n",
       "      <td>92</td>\n",
       "      <td>0.0</td>\n",
       "      <td>0.0</td>\n",
       "      <td>0</td>\n",
       "      <td>0.0</td>\n",
       "      <td>0.0</td>\n",
       "      <td>0.0</td>\n",
       "    </tr>\n",
       "    <tr>\n",
       "      <th>4</th>\n",
       "      <td>5</td>\n",
       "      <td>3.0</td>\n",
       "      <td>3</td>\n",
       "      <td>12.0</td>\n",
       "      <td>2.0</td>\n",
       "      <td>91.0</td>\n",
       "      <td>0.0</td>\n",
       "      <td>92.0</td>\n",
       "      <td>0.0</td>\n",
       "      <td>92.0</td>\n",
       "      <td>...</td>\n",
       "      <td>0</td>\n",
       "      <td>0</td>\n",
       "      <td>0</td>\n",
       "      <td>0</td>\n",
       "      <td>0.0</td>\n",
       "      <td>0.0</td>\n",
       "      <td>0</td>\n",
       "      <td>0.0</td>\n",
       "      <td>0.0</td>\n",
       "      <td>0.0</td>\n",
       "    </tr>\n",
       "  </tbody>\n",
       "</table>\n",
       "<p>5 rows × 125 columns</p>\n",
       "</div>"
      ],
      "text/plain": [
       "   PatNum  EmplType  Certification  InjuryMech  High_impact_InjSev  \\\n",
       "0       1       3.0              3        11.0                 2.0   \n",
       "1       2       5.0              3         8.0                 2.0   \n",
       "2       3       5.0              3         5.0                 2.0   \n",
       "3       4       5.0              3         6.0                 1.0   \n",
       "4       5       3.0              3        12.0                 2.0   \n",
       "\n",
       "   Amnesia_verb  LOCSeparate  LocLen  Seiz  SeizOccur  ...  Finding20  \\\n",
       "0           0.0          0.0    92.0   0.0       92.0  ...         92   \n",
       "1           0.0          0.0    92.0   0.0       92.0  ...          0   \n",
       "2           NaN          NaN    92.0   NaN       92.0  ...          0   \n",
       "3          91.0          0.0    92.0   0.0       92.0  ...         92   \n",
       "4          91.0          0.0    92.0   0.0       92.0  ...          0   \n",
       "\n",
       "   Finding21  Finding22  Finding23  DeathTBI  HospHead  HospHeadPosCT  \\\n",
       "0         92         92         92       0.0       0.0              0   \n",
       "1          0          0          0       0.0       0.0              0   \n",
       "2          0          0          0       0.0       1.0              0   \n",
       "3         92         92         92       0.0       0.0              0   \n",
       "4          0          0          0       0.0       0.0              0   \n",
       "\n",
       "   Intub24Head  Neurosurgery  PosIntFinal  \n",
       "0          0.0           0.0          0.0  \n",
       "1          0.0           0.0          0.0  \n",
       "2          0.0           0.0          0.0  \n",
       "3          0.0           0.0          0.0  \n",
       "4          0.0           0.0          0.0  \n",
       "\n",
       "[5 rows x 125 columns]"
      ]
     },
     "metadata": {},
     "output_type": "display_data"
    },
    {
     "name": "stdout",
     "output_type": "stream",
     "text": [
      "\n",
      "Top 20 columns with missing values:\n"
     ]
    },
    {
     "data": {
      "text/html": [
       "<div>\n",
       "<style scoped>\n",
       "    .dataframe tbody tr th:only-of-type {\n",
       "        vertical-align: middle;\n",
       "    }\n",
       "\n",
       "    .dataframe tbody tr th {\n",
       "        vertical-align: top;\n",
       "    }\n",
       "\n",
       "    .dataframe thead th {\n",
       "        text-align: right;\n",
       "    }\n",
       "</style>\n",
       "<table border=\"1\" class=\"dataframe\">\n",
       "  <thead>\n",
       "    <tr style=\"text-align: right;\">\n",
       "      <th></th>\n",
       "      <th>Missing Values</th>\n",
       "      <th>Percentage</th>\n",
       "    </tr>\n",
       "  </thead>\n",
       "  <tbody>\n",
       "    <tr>\n",
       "      <th>Dizzy</th>\n",
       "      <td>15972</td>\n",
       "      <td>36.802691</td>\n",
       "    </tr>\n",
       "    <tr>\n",
       "      <th>Ethnicity</th>\n",
       "      <td>15966</td>\n",
       "      <td>36.788866</td>\n",
       "    </tr>\n",
       "    <tr>\n",
       "      <th>ActNorm</th>\n",
       "      <td>3335</td>\n",
       "      <td>7.684509</td>\n",
       "    </tr>\n",
       "    <tr>\n",
       "      <th>Race</th>\n",
       "      <td>3208</td>\n",
       "      <td>7.391875</td>\n",
       "    </tr>\n",
       "    <tr>\n",
       "      <th>LocLen</th>\n",
       "      <td>2556</td>\n",
       "      <td>5.889537</td>\n",
       "    </tr>\n",
       "    <tr>\n",
       "      <th>Observed</th>\n",
       "      <td>2376</td>\n",
       "      <td>5.474781</td>\n",
       "    </tr>\n",
       "    <tr>\n",
       "      <th>Amnesia_verb</th>\n",
       "      <td>2296</td>\n",
       "      <td>5.290444</td>\n",
       "    </tr>\n",
       "    <tr>\n",
       "      <th>LOCSeparate</th>\n",
       "      <td>1892</td>\n",
       "      <td>4.359547</td>\n",
       "    </tr>\n",
       "    <tr>\n",
       "      <th>Drugs</th>\n",
       "      <td>1818</td>\n",
       "      <td>4.189037</td>\n",
       "    </tr>\n",
       "    <tr>\n",
       "      <th>HAStart</th>\n",
       "      <td>1332</td>\n",
       "      <td>3.069195</td>\n",
       "    </tr>\n",
       "    <tr>\n",
       "      <th>GCSMotor</th>\n",
       "      <td>1310</td>\n",
       "      <td>3.018503</td>\n",
       "    </tr>\n",
       "    <tr>\n",
       "      <th>GCSVerbal</th>\n",
       "      <td>1298</td>\n",
       "      <td>2.990852</td>\n",
       "    </tr>\n",
       "    <tr>\n",
       "      <th>GCSEye</th>\n",
       "      <td>1288</td>\n",
       "      <td>2.967810</td>\n",
       "    </tr>\n",
       "    <tr>\n",
       "      <th>HASeverity</th>\n",
       "      <td>1044</td>\n",
       "      <td>2.405585</td>\n",
       "    </tr>\n",
       "    <tr>\n",
       "      <th>VomitLast</th>\n",
       "      <td>992</td>\n",
       "      <td>2.285767</td>\n",
       "    </tr>\n",
       "    <tr>\n",
       "      <th>CTSed</th>\n",
       "      <td>914</td>\n",
       "      <td>2.106039</td>\n",
       "    </tr>\n",
       "    <tr>\n",
       "      <th>Seiz</th>\n",
       "      <td>912</td>\n",
       "      <td>2.101431</td>\n",
       "    </tr>\n",
       "    <tr>\n",
       "      <th>HemaSize</th>\n",
       "      <td>742</td>\n",
       "      <td>1.709717</td>\n",
       "    </tr>\n",
       "    <tr>\n",
       "      <th>NeuroD</th>\n",
       "      <td>660</td>\n",
       "      <td>1.520772</td>\n",
       "    </tr>\n",
       "    <tr>\n",
       "      <th>HA_verb</th>\n",
       "      <td>652</td>\n",
       "      <td>1.502339</td>\n",
       "    </tr>\n",
       "  </tbody>\n",
       "</table>\n",
       "</div>"
      ],
      "text/plain": [
       "              Missing Values  Percentage\n",
       "Dizzy                  15972   36.802691\n",
       "Ethnicity              15966   36.788866\n",
       "ActNorm                 3335    7.684509\n",
       "Race                    3208    7.391875\n",
       "LocLen                  2556    5.889537\n",
       "Observed                2376    5.474781\n",
       "Amnesia_verb            2296    5.290444\n",
       "LOCSeparate             1892    4.359547\n",
       "Drugs                   1818    4.189037\n",
       "HAStart                 1332    3.069195\n",
       "GCSMotor                1310    3.018503\n",
       "GCSVerbal               1298    2.990852\n",
       "GCSEye                  1288    2.967810\n",
       "HASeverity              1044    2.405585\n",
       "VomitLast                992    2.285767\n",
       "CTSed                    914    2.106039\n",
       "Seiz                     912    2.101431\n",
       "HemaSize                 742    1.709717\n",
       "NeuroD                   660    1.520772\n",
       "HA_verb                  652    1.502339"
      ]
     },
     "metadata": {},
     "output_type": "display_data"
    },
    {
     "name": "stdout",
     "output_type": "stream",
     "text": [
      "\n",
      "CT dataset shape: (2375, 3)\n",
      "\n",
      "Neuro procedures dataset shape: (200, 10)\n"
     ]
    }
   ],
   "source": [
    "import pandas as pd\n",
    "import numpy as np\n",
    "import matplotlib.pyplot as plt\n",
    "import seaborn as sns\n",
    "from sklearn.model_selection import train_test_split\n",
    "from sklearn.preprocessing import StandardScaler, OneHotEncoder\n",
    "from sklearn.compose import ColumnTransformer\n",
    "from sklearn.pipeline import Pipeline\n",
    "from sklearn.impute import SimpleImputer\n",
    "\n",
    "# Function to try different encodings for CSV files\n",
    "def load_csv_with_encoding(file_path):\n",
    "    encodings = ['utf-8', 'latin1', 'cp1252', 'ISO-8859-1']\n",
    "    \n",
    "    for encoding in encodings:\n",
    "        try:\n",
    "            return pd.read_csv(file_path, encoding=encoding)\n",
    "        except UnicodeDecodeError:\n",
    "            continue\n",
    "            \n",
    "    # If standard encodings fail, try with Python engine\n",
    "    try:\n",
    "        return pd.read_csv(file_path, engine='python')\n",
    "    except Exception as e:\n",
    "        print(f\"Failed to load {file_path}: {e}\")\n",
    "        return None\n",
    "\n",
    "# Load the datasets with encoding handling\n",
    "tbi_data = load_csv_with_encoding('/Users/andrechu/Desktop/UnivUtah/BMI6016/PEACARN/Data/TBI PUD 10-08-2013.csv')\n",
    "ct_data = load_csv_with_encoding('/Users/andrechu/Desktop/UnivUtah/BMI6016/PEACARN/Data/TBI CT Imaging/TBI PUD Imaging.csv')\n",
    "neuro_data = load_csv_with_encoding('/Users/andrechu/Desktop/UnivUtah/BMI6016/PEACARN/Data/TBI Neurologic Procedures/TBI PUD Neuro.csv')\n",
    "\n",
    "# Check if data loaded successfully\n",
    "if tbi_data is not None:\n",
    "    # Initial exploration\n",
    "    print(f\"Main dataset shape: {tbi_data.shape}\")\n",
    "    print(f\"Number of columns: {len(tbi_data.columns)}\")\n",
    "    # Print first few column names instead of all columns\n",
    "    print(f\"First 10 columns: {tbi_data.columns[:10].tolist()}\")\n",
    "    print(tbi_data.dtypes.head())\n",
    "    \n",
    "    # Display first few rows\n",
    "    display(tbi_data.head())\n",
    "    \n",
    "    # Check for missing values\n",
    "    missing_values = tbi_data.isnull().sum()\n",
    "    missing_percent = (missing_values / len(tbi_data)) * 100\n",
    "    missing_data = pd.concat([missing_values, missing_percent], axis=1)\n",
    "    missing_data.columns = ['Missing Values', 'Percentage']\n",
    "    missing_data = missing_data[missing_data['Missing Values'] > 0].sort_values('Percentage', ascending=False)\n",
    "    \n",
    "    # Display only top 20 columns with missing values to avoid overwhelming output\n",
    "    print(\"\\nTop 20 columns with missing values:\")\n",
    "    display(missing_data.head(20))\n",
    "else:\n",
    "    print(\"Main dataset failed to load\")\n",
    "\n",
    "if ct_data is not None:\n",
    "    print(f\"\\nCT dataset shape: {ct_data.shape}\")\n",
    "else:\n",
    "    print(\"CT dataset failed to load\")\n",
    "\n",
    "if neuro_data is not None:\n",
    "    print(f\"\\nNeuro procedures dataset shape: {neuro_data.shape}\")\n",
    "else:\n",
    "    print(\"Neuro procedures dataset failed to load\")"
   ]
  },
  {
   "cell_type": "markdown",
   "id": "903285ba-ded1-4eed-9228-49f62a0e5bc4",
   "metadata": {},
   "source": [
    "Step 2: clean data + pre process"
   ]
  },
  {
   "cell_type": "code",
   "execution_count": 3,
   "id": "cf24a776-4152-4c44-8d6f-ecded3232354",
   "metadata": {},
   "outputs": [
    {
     "name": "stdout",
     "output_type": "stream",
     "text": [
      "\n",
      "Columns with changed missing value percentages:\n"
     ]
    },
    {
     "data": {
      "text/html": [
       "<div>\n",
       "<style scoped>\n",
       "    .dataframe tbody tr th:only-of-type {\n",
       "        vertical-align: middle;\n",
       "    }\n",
       "\n",
       "    .dataframe tbody tr th {\n",
       "        vertical-align: top;\n",
       "    }\n",
       "\n",
       "    .dataframe thead th {\n",
       "        text-align: right;\n",
       "    }\n",
       "</style>\n",
       "<table border=\"1\" class=\"dataframe\">\n",
       "  <thead>\n",
       "    <tr style=\"text-align: right;\">\n",
       "      <th></th>\n",
       "      <th>Before (%)</th>\n",
       "      <th>After (%)</th>\n",
       "    </tr>\n",
       "  </thead>\n",
       "  <tbody>\n",
       "    <tr>\n",
       "      <th>SFxPalpDepress</th>\n",
       "      <td>0.126731</td>\n",
       "      <td>99.610590</td>\n",
       "    </tr>\n",
       "    <tr>\n",
       "      <th>SFxBasRhi</th>\n",
       "      <td>0.000000</td>\n",
       "      <td>99.087537</td>\n",
       "    </tr>\n",
       "    <tr>\n",
       "      <th>SFxBasRet</th>\n",
       "      <td>0.000000</td>\n",
       "      <td>99.087537</td>\n",
       "    </tr>\n",
       "    <tr>\n",
       "      <th>SFxBasPer</th>\n",
       "      <td>0.000000</td>\n",
       "      <td>99.087537</td>\n",
       "    </tr>\n",
       "    <tr>\n",
       "      <th>SFxBasOto</th>\n",
       "      <td>0.000000</td>\n",
       "      <td>99.087537</td>\n",
       "    </tr>\n",
       "    <tr>\n",
       "      <th>SFxBasHem</th>\n",
       "      <td>0.000000</td>\n",
       "      <td>99.087537</td>\n",
       "    </tr>\n",
       "    <tr>\n",
       "      <th>SeizLen</th>\n",
       "      <td>0.269591</td>\n",
       "      <td>98.880159</td>\n",
       "    </tr>\n",
       "    <tr>\n",
       "      <th>SeizOccur</th>\n",
       "      <td>0.163598</td>\n",
       "      <td>98.774165</td>\n",
       "    </tr>\n",
       "    <tr>\n",
       "      <th>CTSedAgitate</th>\n",
       "      <td>0.000000</td>\n",
       "      <td>98.493053</td>\n",
       "    </tr>\n",
       "    <tr>\n",
       "      <th>CTSedOth</th>\n",
       "      <td>0.000000</td>\n",
       "      <td>98.493053</td>\n",
       "    </tr>\n",
       "    <tr>\n",
       "      <th>CTSedRqst</th>\n",
       "      <td>0.000000</td>\n",
       "      <td>98.493053</td>\n",
       "    </tr>\n",
       "    <tr>\n",
       "      <th>CTSedAge</th>\n",
       "      <td>0.000000</td>\n",
       "      <td>98.493053</td>\n",
       "    </tr>\n",
       "    <tr>\n",
       "      <th>NeuroDOth</th>\n",
       "      <td>0.000000</td>\n",
       "      <td>98.414710</td>\n",
       "    </tr>\n",
       "    <tr>\n",
       "      <th>NeuroDReflex</th>\n",
       "      <td>0.000000</td>\n",
       "      <td>98.414710</td>\n",
       "    </tr>\n",
       "    <tr>\n",
       "      <th>NeuroDCranial</th>\n",
       "      <td>0.000000</td>\n",
       "      <td>98.414710</td>\n",
       "    </tr>\n",
       "    <tr>\n",
       "      <th>NeuroDSensory</th>\n",
       "      <td>0.000000</td>\n",
       "      <td>98.414710</td>\n",
       "    </tr>\n",
       "    <tr>\n",
       "      <th>NeuroDMotor</th>\n",
       "      <td>0.000000</td>\n",
       "      <td>98.414710</td>\n",
       "    </tr>\n",
       "    <tr>\n",
       "      <th>LocLen</th>\n",
       "      <td>5.889537</td>\n",
       "      <td>90.124196</td>\n",
       "    </tr>\n",
       "    <tr>\n",
       "      <th>OSIOth</th>\n",
       "      <td>0.000000</td>\n",
       "      <td>89.476716</td>\n",
       "    </tr>\n",
       "    <tr>\n",
       "      <th>OSICspine</th>\n",
       "      <td>0.000000</td>\n",
       "      <td>89.476716</td>\n",
       "    </tr>\n",
       "  </tbody>\n",
       "</table>\n",
       "</div>"
      ],
      "text/plain": [
       "                Before (%)  After (%)\n",
       "SFxPalpDepress    0.126731  99.610590\n",
       "SFxBasRhi         0.000000  99.087537\n",
       "SFxBasRet         0.000000  99.087537\n",
       "SFxBasPer         0.000000  99.087537\n",
       "SFxBasOto         0.000000  99.087537\n",
       "SFxBasHem         0.000000  99.087537\n",
       "SeizLen           0.269591  98.880159\n",
       "SeizOccur         0.163598  98.774165\n",
       "CTSedAgitate      0.000000  98.493053\n",
       "CTSedOth          0.000000  98.493053\n",
       "CTSedRqst         0.000000  98.493053\n",
       "CTSedAge          0.000000  98.493053\n",
       "NeuroDOth         0.000000  98.414710\n",
       "NeuroDReflex      0.000000  98.414710\n",
       "NeuroDCranial     0.000000  98.414710\n",
       "NeuroDSensory     0.000000  98.414710\n",
       "NeuroDMotor       0.000000  98.414710\n",
       "LocLen            5.889537  90.124196\n",
       "OSIOth            0.000000  89.476716\n",
       "OSICspine         0.000000  89.476716"
      ]
     },
     "metadata": {},
     "output_type": "display_data"
    },
    {
     "name": "stdout",
     "output_type": "stream",
     "text": [
      "\n",
      "Data types after conversion:\n",
      "EmplType              category\n",
      "Certification         category\n",
      "InjuryMech            category\n",
      "High_impact_InjSev    category\n",
      "Gender                category\n",
      "GCSGroup              category\n",
      "Ethnicity             category\n",
      "Race                  category\n",
      "GCSEye                category\n",
      "GCSVerbal             category\n",
      "GCSMotor              category\n",
      "dtype: object\n"
     ]
    }
   ],
   "source": [
    "# Replace special codes with NaN\n",
    "# Based on the head output, we can see that 92.0 appears to be a missing value code\n",
    "\n",
    "# Define special codes that represent missing values \n",
    "missing_codes = [91.0, 92.0]  # Add more if identified in documentation\n",
    "\n",
    "# Function to replace missing value codes\n",
    "def replace_missing_codes(df, codes):\n",
    "    df_clean = df.copy()\n",
    "    for col in df_clean.columns:\n",
    "        if df_clean[col].dtype in ['float64', 'int64']:\n",
    "            for code in codes:\n",
    "                df_clean[col] = df_clean[col].replace(code, np.nan)\n",
    "    return df_clean\n",
    "\n",
    "# Apply the function to each dataset\n",
    "tbi_data_clean = replace_missing_codes(tbi_data, missing_codes)\n",
    "ct_data_clean = replace_missing_codes(ct_data, missing_codes)\n",
    "neuro_data_clean = replace_missing_codes(neuro_data, missing_codes)\n",
    "\n",
    "# Check the effect of our cleaning on missing values\n",
    "missing_after = tbi_data_clean.isnull().sum()\n",
    "missing_percent_after = (missing_after / len(tbi_data_clean)) * 100\n",
    "missing_comparison = pd.DataFrame({\n",
    "    'Before (%)': missing_percent,\n",
    "    'After (%)': missing_percent_after\n",
    "})\n",
    "\n",
    "# Show only changed columns\n",
    "changed_cols = (missing_comparison['Before (%)'] != missing_comparison['After (%)']).values\n",
    "print(\"\\nColumns with changed missing value percentages:\")\n",
    "display(missing_comparison[changed_cols].sort_values('After (%)', ascending=False).head(20))\n",
    "\n",
    "# Convert categorical variables that are stored as numeric\n",
    "# Based on domain knowledge of TBI datasets, some columns are likely categorical\n",
    "\n",
    "# Example categorical columns (adjust based on your understanding of the data)\n",
    "likely_categorical = ['EmplType', 'Certification', 'InjuryMech', 'High_impact_InjSev', \n",
    "                      'Gender', 'GCSGroup', 'Ethnicity', 'Race', 'GCSEye', 'GCSVerbal', 'GCSMotor']\n",
    "\n",
    "for col in likely_categorical:\n",
    "    if col in tbi_data_clean.columns:\n",
    "        tbi_data_clean[col] = tbi_data_clean[col].astype('category')\n",
    "\n",
    "# Check data types after conversion\n",
    "print(\"\\nData types after conversion:\")\n",
    "print(tbi_data_clean[likely_categorical].dtypes)"
   ]
  },
  {
   "cell_type": "markdown",
   "id": "9fc8a505-cb11-48f3-92b1-5892c1ad7160",
   "metadata": {},
   "source": [
    "Step 3: feature engineering"
   ]
  },
  {
   "cell_type": "code",
   "execution_count": 4,
   "id": "a997b22b-12aa-43b8-beb0-4214017b9509",
   "metadata": {},
   "outputs": [
    {
     "name": "stdout",
     "output_type": "stream",
     "text": [
      "GCSTotal column already exists or GCS components missing\n",
      "Created AnyNeuroDeficit from columns: ['NeuroDMotor', 'NeuroDSensory', 'NeuroDCranial', 'NeuroDReflex', 'NeuroDOth', 'IndNeuroD']\n",
      "\n",
      "Skipping CT data merge - PatNum not found in both datasets\n",
      "\n",
      "New features added:\n",
      "AnyNeuroDeficit:\n"
     ]
    },
    {
     "name": "stderr",
     "output_type": "stream",
     "text": [
      "/var/folders/cz/4qrgzl3d6737hknhqtft5nlm0000gn/T/ipykernel_71428/3624616176.py:17: PerformanceWarning: DataFrame is highly fragmented.  This is usually the result of calling `frame.insert` many times, which has poor performance.  Consider joining all columns at once using pd.concat(axis=1) instead. To get a de-fragmented frame, use `newframe = frame.copy()`\n",
      "  tbi_data_clean['AnyNeuroDeficit'] = tbi_data_clean[neuro_columns].notna().any(axis=1) & (tbi_data_clean['NeuroD'] == 1)\n",
      "/var/folders/cz/4qrgzl3d6737hknhqtft5nlm0000gn/T/ipykernel_71428/3624616176.py:25: PerformanceWarning: DataFrame is highly fragmented.  This is usually the result of calling `frame.insert` many times, which has poor performance.  Consider joining all columns at once using pd.concat(axis=1) instead. To get a de-fragmented frame, use `newframe = frame.copy()`\n",
      "  tbi_data_clean['TBI_Severity'] = pd.cut(\n",
      "/var/folders/cz/4qrgzl3d6737hknhqtft5nlm0000gn/T/ipykernel_71428/3624616176.py:41: PerformanceWarning: DataFrame is highly fragmented.  This is usually the result of calling `frame.insert` many times, which has poor performance.  Consider joining all columns at once using pd.concat(axis=1) instead. To get a de-fragmented frame, use `newframe = frame.copy()`\n",
      "  tbi_data_clean['AgeGroup'] = pd.cut(\n"
     ]
    },
    {
     "data": {
      "text/plain": [
       "AnyNeuroDeficit\n",
       "False    42711\n",
       "True       688\n",
       "Name: count, dtype: int64"
      ]
     },
     "metadata": {},
     "output_type": "display_data"
    },
    {
     "name": "stdout",
     "output_type": "stream",
     "text": [
      "TBI_Severity:\n"
     ]
    },
    {
     "data": {
      "text/plain": [
       "TBI_Severity\n",
       "Mild        42735\n",
       "Severe        354\n",
       "Moderate      310\n",
       "Name: count, dtype: int64"
      ]
     },
     "metadata": {},
     "output_type": "display_data"
    },
    {
     "name": "stdout",
     "output_type": "stream",
     "text": [
      "AgeGroup:\n"
     ]
    },
    {
     "data": {
      "text/plain": [
       "AgeGroup\n",
       "Adolescent    13956\n",
       "Infant        11282\n",
       "Preschool      9169\n",
       "School Age     8717\n",
       "Name: count, dtype: int64"
      ]
     },
     "metadata": {},
     "output_type": "display_data"
    }
   ],
   "source": [
    "# Create combined Glasgow Coma Scale (GCS) if not already present\n",
    "if 'GCSTotal' not in tbi_data_clean.columns and all(col in tbi_data_clean.columns for col in ['GCSEye', 'GCSVerbal', 'GCSMotor']):\n",
    "    # Fill missing components with median values before calculation\n",
    "    tbi_data_clean['GCSEye_filled'] = tbi_data_clean['GCSEye'].fillna(tbi_data_clean['GCSEye'].median())\n",
    "    tbi_data_clean['GCSVerbal_filled'] = tbi_data_clean['GCSVerbal'].fillna(tbi_data_clean['GCSVerbal'].median())\n",
    "    tbi_data_clean['GCSMotor_filled'] = tbi_data_clean['GCSMotor'].fillna(tbi_data_clean['GCSMotor'].median())\n",
    "    \n",
    "    # Calculate GCS total\n",
    "    tbi_data_clean['GCSTotal_calc'] = tbi_data_clean['GCSEye_filled'] + tbi_data_clean['GCSVerbal_filled'] + tbi_data_clean['GCSMotor_filled']\n",
    "else:\n",
    "    print(\"GCSTotal column already exists or GCS components missing\")\n",
    "\n",
    "# Create a neurological deficit indicator\n",
    "neuro_columns = [col for col in tbi_data_clean.columns if 'NeuroD' in col and col != 'NeuroD']\n",
    "if len(neuro_columns) > 0:\n",
    "    # Create indicator for any neurological deficit\n",
    "    tbi_data_clean['AnyNeuroDeficit'] = tbi_data_clean[neuro_columns].notna().any(axis=1) & (tbi_data_clean['NeuroD'] == 1)\n",
    "    print(f\"Created AnyNeuroDeficit from columns: {neuro_columns}\")\n",
    "else:\n",
    "    print(\"No neurological deficit columns found\")\n",
    "\n",
    "# Create TBI severity indicators based on clinical knowledge\n",
    "# GCS 13-15: Mild, 9-12: Moderate, 3-8: Severe\n",
    "if 'GCSTotal' in tbi_data_clean.columns:\n",
    "    tbi_data_clean['TBI_Severity'] = pd.cut(\n",
    "        tbi_data_clean['GCSTotal'], \n",
    "        bins=[0, 8, 12, 15], \n",
    "        labels=['Severe', 'Moderate', 'Mild'],\n",
    "        include_lowest=True\n",
    "    )\n",
    "elif 'GCSTotal_calc' in tbi_data_clean.columns:\n",
    "    tbi_data_clean['TBI_Severity'] = pd.cut(\n",
    "        tbi_data_clean['GCSTotal_calc'], \n",
    "        bins=[0, 8, 12, 15], \n",
    "        labels=['Severe', 'Moderate', 'Mild'],\n",
    "        include_lowest=True\n",
    "    )\n",
    "\n",
    "# Create age groups\n",
    "if 'AgeInMonth' in tbi_data_clean.columns:\n",
    "    tbi_data_clean['AgeGroup'] = pd.cut(\n",
    "        tbi_data_clean['AgeInMonth'],\n",
    "        bins=[0, 24, 60, 120, 216],  # 0-2, 2-5, 5-10, 10-18 years\n",
    "        labels=['Infant', 'Preschool', 'School Age', 'Adolescent'],\n",
    "        include_lowest=True\n",
    "    )\n",
    "\n",
    "# Merge with CT data if needed\n",
    "if 'PatNum' in tbi_data_clean.columns and 'PatNum' in ct_data_clean.columns:\n",
    "    # Check columns in CT data\n",
    "    print(\"\\nCT data columns:\", ct_data_clean.columns.tolist())\n",
    "    \n",
    "    # Merge datasets\n",
    "    merged_data = pd.merge(tbi_data_clean, ct_data_clean, on='PatNum', how='left')\n",
    "    print(f\"\\nMerged data shape: {merged_data.shape}\")\n",
    "    \n",
    "    # Check if CT data was successfully merged\n",
    "    ct_cols = [col for col in ct_data_clean.columns if col != 'PatNum']\n",
    "    missing_ct = merged_data[ct_cols].isnull().all(axis=1).sum()\n",
    "    print(f\"Rows without CT data: {missing_ct} ({missing_ct/len(merged_data)*100:.2f}%)\")\n",
    "else:\n",
    "    merged_data = tbi_data_clean\n",
    "    print(\"\\nSkipping CT data merge - PatNum not found in both datasets\")\n",
    "\n",
    "# Print summary of new features\n",
    "print(\"\\nNew features added:\")\n",
    "new_features = ['GCSTotal_calc', 'AnyNeuroDeficit', 'TBI_Severity', 'AgeGroup']\n",
    "for feature in new_features:\n",
    "    if feature in merged_data.columns:\n",
    "        print(f\"{feature}:\")\n",
    "        display(merged_data[feature].value_counts())"
   ]
  },
  {
   "cell_type": "code",
   "execution_count": 5,
   "id": "e5ef2647-9b77-49e4-8a69-c188b9dbd1fd",
   "metadata": {},
   "outputs": [
    {
     "data": {
      "image/png": "[encoded data removed]",
      "text/plain": [
       "<Figure size 1000x600 with 1 Axes>"
      ]
     },
     "metadata": {},
     "output_type": "display_data"
    },
    {
     "data": {
      "text/plain": [
       "<Figure size 1200x700 with 0 Axes>"
      ]
     },
     "metadata": {},
     "output_type": "display_data"
    },
    {
     "data": {
      "image/png": "[encoded data removed]",
      "text/plain": [
       "<Figure size 640x480 with 1 Axes>"
      ]
     },
     "metadata": {},
     "output_type": "display_data"
    },
    {
     "data": {
      "image/png": "[encoded data removed]",
      "text/plain": [
       "<Figure size 1200x1000 with 2 Axes>"
      ]
     },
     "metadata": {},
     "output_type": "display_data"
    },
    {
     "data": {
      "image/png": "[encoded data removed]",
      "text/plain": [
       "<Figure size 1000x600 with 1 Axes>"
      ]
     },
     "metadata": {},
     "output_type": "display_data"
    }
   ],
   "source": [
    "# Let's create some visualizations to understand the data better\n",
    "import matplotlib.pyplot as plt\n",
    "import seaborn as sns\n",
    "\n",
    "# Set up plotting style\n",
    "plt.style.use('ggplot')\n",
    "sns.set(font_scale=1.2)\n",
    "\n",
    "# 1. Distribution of GCS Total Scores\n",
    "plt.figure(figsize=(10, 6))\n",
    "if 'GCSTotal' in merged_data.columns:\n",
    "    sns.histplot(merged_data['GCSTotal'].dropna(), kde=True)\n",
    "    plt.title('Distribution of Glasgow Coma Scale (GCS) Total Scores')\n",
    "elif 'GCSTotal_calc' in merged_data.columns:\n",
    "    sns.histplot(merged_data['GCSTotal_calc'].dropna(), kde=True)\n",
    "    plt.title('Distribution of Calculated Glasgow Coma Scale (GCS) Total Scores')\n",
    "plt.xlabel('GCS Score')\n",
    "plt.ylabel('Count')\n",
    "plt.tight_layout()\n",
    "plt.show()\n",
    "\n",
    "# 2. TBI Severity by Age Group\n",
    "if 'TBI_Severity' in merged_data.columns and 'AgeGroup' in merged_data.columns:\n",
    "    plt.figure(figsize=(12, 7))\n",
    "    severity_by_age = pd.crosstab(\n",
    "        merged_data['AgeGroup'], \n",
    "        merged_data['TBI_Severity'], \n",
    "        normalize='index'\n",
    "    ) * 100\n",
    "    \n",
    "    severity_by_age.plot(kind='bar', stacked=True, colormap='viridis')\n",
    "    plt.title('TBI Severity Distribution by Age Group')\n",
    "    plt.xlabel('Age Group')\n",
    "    plt.ylabel('Percentage')\n",
    "    plt.legend(title='TBI Severity')\n",
    "    plt.tight_layout()\n",
    "    plt.show()\n",
    "\n",
    "# 3. Correlation Heatmap of Key Variables\n",
    "# Select numeric columns for correlation analysis\n",
    "numeric_cols = merged_data.select_dtypes(include=['float64', 'int64']).columns.tolist()\n",
    "if len(numeric_cols) > 15:  # If too many columns, select a subset\n",
    "    key_numeric_cols = ['AgeInMonth', 'GCSTotal'] if 'GCSTotal' in numeric_cols else ['AgeInMonth']\n",
    "    \n",
    "    # Add GCS components if available\n",
    "    gcs_components = [col for col in numeric_cols if col.startswith('GCS') and col not in key_numeric_cols]\n",
    "    key_numeric_cols.extend(gcs_components[:3])  # Add up to 3 GCS components\n",
    "    \n",
    "    # Add other potentially relevant columns\n",
    "    relevant_cols = ['PosCT', 'LOCSeparate', 'Vomit', 'Seiz', 'NeuroD', 'OSI']\n",
    "    key_numeric_cols.extend([col for col in relevant_cols if col in numeric_cols])\n",
    "    \n",
    "    # Limit to 15 columns max\n",
    "    numeric_cols = key_numeric_cols[:15]\n",
    "\n",
    "# Create correlation matrix\n",
    "plt.figure(figsize=(12, 10))\n",
    "corr_matrix = merged_data[numeric_cols].corr()\n",
    "mask = np.triu(np.ones_like(corr_matrix, dtype=bool))\n",
    "sns.heatmap(corr_matrix, mask=mask, annot=True, cmap='coolwarm', fmt='.2f', \n",
    "            linewidths=0.5, vmin=-1, vmax=1)\n",
    "plt.title('Correlation Matrix of Key Variables')\n",
    "plt.tight_layout()\n",
    "plt.show()\n",
    "\n",
    "# 4. Positive CT findings by GCS Score\n",
    "if 'PosCT' in merged_data.columns and ('GCSTotal' in merged_data.columns or 'GCSTotal_calc' in merged_data.columns):\n",
    "    plt.figure(figsize=(10, 6))\n",
    "    \n",
    "    gcs_col = 'GCSTotal' if 'GCSTotal' in merged_data.columns else 'GCSTotal_calc'\n",
    "    \n",
    "    # Group by GCS and calculate percentage of positive CT scans\n",
    "    gcs_groups = merged_data.groupby(gcs_col)['PosCT'].agg(['mean', 'count'])\n",
    "    gcs_groups.columns = ['Percent_Positive', 'Count']\n",
    "    gcs_groups['Percent_Positive'] = gcs_groups['Percent_Positive'] * 100\n",
    "    \n",
    "    # Filter to include only groups with at least 30 patients\n",
    "    gcs_groups = gcs_groups[gcs_groups['Count'] >= 30]\n",
    "    \n",
    "    ax = sns.barplot(x=gcs_groups.index, y=gcs_groups['Percent_Positive'])\n",
    "    plt.title('Percentage of Positive CT Findings by GCS Score')\n",
    "    plt.xlabel('GCS Score')\n",
    "    plt.ylabel('Percentage with Positive CT (%)')\n",
    "    \n",
    "    # Add count labels\n",
    "    for i, (idx, row) in enumerate(gcs_groups.iterrows()):\n",
    "        ax.text(i, row['Percent_Positive'] + 1, f'n={row[\"Count\"]}', \n",
    "                ha='center', va='bottom', fontsize=9)\n",
    "    \n",
    "    plt.tight_layout()\n",
    "    plt.show()"
   ]
  },
  {
   "cell_type": "code",
   "execution_count": 6,
   "id": "f5c29f53-6698-4fa9-a77e-15148bb1269f",
   "metadata": {},
   "outputs": [
    {
     "name": "stdout",
     "output_type": "stream",
     "text": [
      "\n",
      "Target variable (PosCT) distribution:\n"
     ]
    },
    {
     "data": {
      "text/html": [
       "<div>\n",
       "<style scoped>\n",
       "    .dataframe tbody tr th:only-of-type {\n",
       "        vertical-align: middle;\n",
       "    }\n",
       "\n",
       "    .dataframe tbody tr th {\n",
       "        vertical-align: top;\n",
       "    }\n",
       "\n",
       "    .dataframe thead th {\n",
       "        text-align: right;\n",
       "    }\n",
       "</style>\n",
       "<table border=\"1\" class=\"dataframe\">\n",
       "  <thead>\n",
       "    <tr style=\"text-align: right;\">\n",
       "      <th></th>\n",
       "      <th>Count</th>\n",
       "      <th>Percentage</th>\n",
       "    </tr>\n",
       "    <tr>\n",
       "      <th>PosCT</th>\n",
       "      <th></th>\n",
       "      <th></th>\n",
       "    </tr>\n",
       "  </thead>\n",
       "  <tbody>\n",
       "    <tr>\n",
       "      <th>NaN</th>\n",
       "      <td>27500</td>\n",
       "      <td>63.365515</td>\n",
       "    </tr>\n",
       "    <tr>\n",
       "      <th>0.0</th>\n",
       "      <td>14743</td>\n",
       "      <td>33.970829</td>\n",
       "    </tr>\n",
       "    <tr>\n",
       "      <th>1.0</th>\n",
       "      <td>1156</td>\n",
       "      <td>2.663656</td>\n",
       "    </tr>\n",
       "  </tbody>\n",
       "</table>\n",
       "</div>"
      ],
      "text/plain": [
       "       Count  Percentage\n",
       "PosCT                   \n",
       "NaN    27500   63.365515\n",
       "0.0    14743   33.970829\n",
       "1.0     1156    2.663656"
      ]
     },
     "metadata": {},
     "output_type": "display_data"
    },
    {
     "name": "stdout",
     "output_type": "stream",
     "text": [
      "\n",
      "Selected features for modeling: ['GCSTotal', 'AgeInMonth', 'AgeGroup', 'AnyNeuroDeficit', 'TBI_Severity', 'GCSEye', 'GCSVerbal', 'GCSMotor', 'LOCSeparate', 'Amnesia_verb', 'Vomit', 'HA_verb', 'Seiz', 'InjuryMech', 'High_impact_InjSev', 'Gender', 'SFxPalp', 'Hema', 'EmplType']\n",
      "\n",
      "Missing values in modeling dataset:\n"
     ]
    },
    {
     "data": {
      "text/html": [
       "<div>\n",
       "<style scoped>\n",
       "    .dataframe tbody tr th:only-of-type {\n",
       "        vertical-align: middle;\n",
       "    }\n",
       "\n",
       "    .dataframe tbody tr th {\n",
       "        vertical-align: top;\n",
       "    }\n",
       "\n",
       "    .dataframe thead th {\n",
       "        text-align: right;\n",
       "    }\n",
       "</style>\n",
       "<table border=\"1\" class=\"dataframe\">\n",
       "  <thead>\n",
       "    <tr style=\"text-align: right;\">\n",
       "      <th></th>\n",
       "      <th>Missing Values</th>\n",
       "      <th>Percentage</th>\n",
       "    </tr>\n",
       "  </thead>\n",
       "  <tbody>\n",
       "    <tr>\n",
       "      <th>PosCT</th>\n",
       "      <td>27500</td>\n",
       "      <td>63.365515</td>\n",
       "    </tr>\n",
       "    <tr>\n",
       "      <th>Amnesia_verb</th>\n",
       "      <td>17101</td>\n",
       "      <td>39.404134</td>\n",
       "    </tr>\n",
       "    <tr>\n",
       "      <th>HA_verb</th>\n",
       "      <td>14712</td>\n",
       "      <td>33.899399</td>\n",
       "    </tr>\n",
       "    <tr>\n",
       "      <th>LOCSeparate</th>\n",
       "      <td>1892</td>\n",
       "      <td>4.359547</td>\n",
       "    </tr>\n",
       "    <tr>\n",
       "      <th>GCSMotor</th>\n",
       "      <td>1310</td>\n",
       "      <td>3.018503</td>\n",
       "    </tr>\n",
       "    <tr>\n",
       "      <th>GCSVerbal</th>\n",
       "      <td>1298</td>\n",
       "      <td>2.990852</td>\n",
       "    </tr>\n",
       "    <tr>\n",
       "      <th>GCSEye</th>\n",
       "      <td>1288</td>\n",
       "      <td>2.967810</td>\n",
       "    </tr>\n",
       "    <tr>\n",
       "      <th>Seiz</th>\n",
       "      <td>912</td>\n",
       "      <td>2.101431</td>\n",
       "    </tr>\n",
       "    <tr>\n",
       "      <th>Vomit</th>\n",
       "      <td>443</td>\n",
       "      <td>1.020761</td>\n",
       "    </tr>\n",
       "    <tr>\n",
       "      <th>High_impact_InjSev</th>\n",
       "      <td>334</td>\n",
       "      <td>0.769603</td>\n",
       "    </tr>\n",
       "    <tr>\n",
       "      <th>Hema</th>\n",
       "      <td>305</td>\n",
       "      <td>0.702781</td>\n",
       "    </tr>\n",
       "    <tr>\n",
       "      <th>InjuryMech</th>\n",
       "      <td>301</td>\n",
       "      <td>0.693564</td>\n",
       "    </tr>\n",
       "    <tr>\n",
       "      <th>AgeGroup</th>\n",
       "      <td>275</td>\n",
       "      <td>0.633655</td>\n",
       "    </tr>\n",
       "    <tr>\n",
       "      <th>AgeInMonth</th>\n",
       "      <td>275</td>\n",
       "      <td>0.633655</td>\n",
       "    </tr>\n",
       "    <tr>\n",
       "      <th>SFxPalp</th>\n",
       "      <td>104</td>\n",
       "      <td>0.239637</td>\n",
       "    </tr>\n",
       "    <tr>\n",
       "      <th>EmplType</th>\n",
       "      <td>18</td>\n",
       "      <td>0.041476</td>\n",
       "    </tr>\n",
       "    <tr>\n",
       "      <th>Gender</th>\n",
       "      <td>3</td>\n",
       "      <td>0.006913</td>\n",
       "    </tr>\n",
       "  </tbody>\n",
       "</table>\n",
       "</div>"
      ],
      "text/plain": [
       "                    Missing Values  Percentage\n",
       "PosCT                        27500   63.365515\n",
       "Amnesia_verb                 17101   39.404134\n",
       "HA_verb                      14712   33.899399\n",
       "LOCSeparate                   1892    4.359547\n",
       "GCSMotor                      1310    3.018503\n",
       "GCSVerbal                     1298    2.990852\n",
       "GCSEye                        1288    2.967810\n",
       "Seiz                           912    2.101431\n",
       "Vomit                          443    1.020761\n",
       "High_impact_InjSev             334    0.769603\n",
       "Hema                           305    0.702781\n",
       "InjuryMech                     301    0.693564\n",
       "AgeGroup                       275    0.633655\n",
       "AgeInMonth                     275    0.633655\n",
       "SFxPalp                        104    0.239637\n",
       "EmplType                        18    0.041476\n",
       "Gender                           3    0.006913"
      ]
     },
     "metadata": {},
     "output_type": "display_data"
    },
    {
     "name": "stdout",
     "output_type": "stream",
     "text": [
      "\n",
      "Rows after dropping missing target: 15899\n"
     ]
    }
   ],
   "source": [
    "# Define target variable\n",
    "# Assuming 'PosCT' as the target (positive CT findings indicating clinically important TBI)\n",
    "# You may need to adjust this based on your specific research questions\n",
    "target_col = 'PosCT'\n",
    "\n",
    "if target_col in merged_data.columns:\n",
    "    # Check target variable distribution\n",
    "    print(f\"\\nTarget variable ({target_col}) distribution:\")\n",
    "    target_counts = merged_data[target_col].value_counts(dropna=False)\n",
    "    target_pct = merged_data[target_col].value_counts(normalize=True, dropna=False) * 100\n",
    "    \n",
    "    target_summary = pd.DataFrame({\n",
    "        'Count': target_counts,\n",
    "        'Percentage': target_pct\n",
    "    })\n",
    "    display(target_summary)\n",
    "    \n",
    "    # Select features for modeling\n",
    "    # Start with a selection of features that might be predictive\n",
    "    potential_features = [\n",
    "        'GCSTotal' if 'GCSTotal' in merged_data.columns else 'GCSTotal_calc',\n",
    "        'AgeInMonth', 'AgeGroup', 'AnyNeuroDeficit', 'TBI_Severity',\n",
    "        'GCSEye', 'GCSVerbal', 'GCSMotor', 'LOCSeparate', 'Amnesia_verb',\n",
    "        'Vomit', 'HA_verb', 'Seiz', 'InjuryMech', 'High_impact_InjSev',\n",
    "        'Gender', 'SFxPalp', 'Hema', 'EmplType'\n",
    "    ]\n",
    "    \n",
    "    # Filter to only include columns that exist in the dataframe\n",
    "    features = [col for col in potential_features if col in merged_data.columns]\n",
    "    \n",
    "    print(f\"\\nSelected features for modeling: {features}\")\n",
    "    \n",
    "    # Create modeling dataset\n",
    "    model_data = merged_data[features + [target_col]].copy()\n",
    "    \n",
    "    # Print summary of missing values in modeling dataset\n",
    "    missing_model = model_data.isnull().sum()\n",
    "    missing_pct_model = (missing_model / len(model_data)) * 100\n",
    "    missing_summary = pd.DataFrame({\n",
    "        'Missing Values': missing_model,\n",
    "        'Percentage': missing_pct_model\n",
    "    })\n",
    "    \n",
    "    print(\"\\nMissing values in modeling dataset:\")\n",
    "    display(missing_summary[missing_summary['Missing Values'] > 0].sort_values('Percentage', ascending=False))\n",
    "    \n",
    "    # Drop rows with missing target\n",
    "    model_data = model_data.dropna(subset=[target_col])\n",
    "    print(f\"\\nRows after dropping missing target: {len(model_data)}\")\n",
    "    \n",
    "    # For remaining missing values in features, we'll handle them in the modeling pipeline\n",
    "else:\n",
    "    print(f\"\\nTarget column '{target_col}' not found in the dataset.\")"
   ]
  },
  {
   "cell_type": "code",
   "execution_count": 7,
   "id": "4c737c24-f180-4957-9150-b61d744ae7b6",
   "metadata": {},
   "outputs": [
    {
     "name": "stdout",
     "output_type": "stream",
     "text": [
      "Comparison between patients with and without CT scans:\n"
     ]
    },
    {
     "data": {
      "text/html": [
       "<div>\n",
       "<style scoped>\n",
       "    .dataframe tbody tr th:only-of-type {\n",
       "        vertical-align: middle;\n",
       "    }\n",
       "\n",
       "    .dataframe tbody tr th {\n",
       "        vertical-align: top;\n",
       "    }\n",
       "\n",
       "    .dataframe thead th {\n",
       "        text-align: right;\n",
       "    }\n",
       "</style>\n",
       "<table border=\"1\" class=\"dataframe\">\n",
       "  <thead>\n",
       "    <tr style=\"text-align: right;\">\n",
       "      <th></th>\n",
       "      <th>ReceivedCT</th>\n",
       "      <th>True</th>\n",
       "    </tr>\n",
       "  </thead>\n",
       "  <tbody>\n",
       "    <tr>\n",
       "      <th rowspan=\"3\" valign=\"top\">AgeInMonth</th>\n",
       "      <th>mean</th>\n",
       "      <td>84.429342</td>\n",
       "    </tr>\n",
       "    <tr>\n",
       "      <th>median</th>\n",
       "      <td>67.000000</td>\n",
       "    </tr>\n",
       "    <tr>\n",
       "      <th>count</th>\n",
       "      <td>43399.000000</td>\n",
       "    </tr>\n",
       "    <tr>\n",
       "      <th rowspan=\"3\" valign=\"top\">GCSTotal</th>\n",
       "      <th>mean</th>\n",
       "      <td>14.840711</td>\n",
       "    </tr>\n",
       "    <tr>\n",
       "      <th>median</th>\n",
       "      <td>15.000000</td>\n",
       "    </tr>\n",
       "    <tr>\n",
       "      <th>count</th>\n",
       "      <td>43399.000000</td>\n",
       "    </tr>\n",
       "    <tr>\n",
       "      <th rowspan=\"3\" valign=\"top\">Gender</th>\n",
       "      <th>mean</th>\n",
       "      <td>1.376555</td>\n",
       "    </tr>\n",
       "    <tr>\n",
       "      <th>median</th>\n",
       "      <td>1.000000</td>\n",
       "    </tr>\n",
       "    <tr>\n",
       "      <th>count</th>\n",
       "      <td>43396.000000</td>\n",
       "    </tr>\n",
       "    <tr>\n",
       "      <th rowspan=\"3\" valign=\"top\">Vomit</th>\n",
       "      <th>mean</th>\n",
       "      <td>0.135115</td>\n",
       "    </tr>\n",
       "    <tr>\n",
       "      <th>median</th>\n",
       "      <td>0.000000</td>\n",
       "    </tr>\n",
       "    <tr>\n",
       "      <th>count</th>\n",
       "      <td>42956.000000</td>\n",
       "    </tr>\n",
       "    <tr>\n",
       "      <th rowspan=\"3\" valign=\"top\">LOCSeparate</th>\n",
       "      <th>mean</th>\n",
       "      <td>0.213313</td>\n",
       "    </tr>\n",
       "    <tr>\n",
       "      <th>median</th>\n",
       "      <td>0.000000</td>\n",
       "    </tr>\n",
       "    <tr>\n",
       "      <th>count</th>\n",
       "      <td>41507.000000</td>\n",
       "    </tr>\n",
       "    <tr>\n",
       "      <th rowspan=\"3\" valign=\"top\">Amnesia_verb</th>\n",
       "      <th>mean</th>\n",
       "      <td>32.888159</td>\n",
       "    </tr>\n",
       "    <tr>\n",
       "      <th>median</th>\n",
       "      <td>0.000000</td>\n",
       "    </tr>\n",
       "    <tr>\n",
       "      <th>count</th>\n",
       "      <td>41103.000000</td>\n",
       "    </tr>\n",
       "    <tr>\n",
       "      <th rowspan=\"3\" valign=\"top\">HA_verb</th>\n",
       "      <th>mean</th>\n",
       "      <td>30.230566</td>\n",
       "    </tr>\n",
       "    <tr>\n",
       "      <th>median</th>\n",
       "      <td>1.000000</td>\n",
       "    </tr>\n",
       "    <tr>\n",
       "      <th>count</th>\n",
       "      <td>42747.000000</td>\n",
       "    </tr>\n",
       "  </tbody>\n",
       "</table>\n",
       "</div>"
      ],
      "text/plain": [
       "ReceivedCT                   True\n",
       "AgeInMonth   mean       84.429342\n",
       "             median     67.000000\n",
       "             count   43399.000000\n",
       "GCSTotal     mean       14.840711\n",
       "             median     15.000000\n",
       "             count   43399.000000\n",
       "Gender       mean        1.376555\n",
       "             median      1.000000\n",
       "             count   43396.000000\n",
       "Vomit        mean        0.135115\n",
       "             median      0.000000\n",
       "             count   42956.000000\n",
       "LOCSeparate  mean        0.213313\n",
       "             median      0.000000\n",
       "             count   41507.000000\n",
       "Amnesia_verb mean       32.888159\n",
       "             median      0.000000\n",
       "             count   41103.000000\n",
       "HA_verb      mean       30.230566\n",
       "             median      1.000000\n",
       "             count   42747.000000"
      ]
     },
     "metadata": {},
     "output_type": "display_data"
    },
    {
     "data": {
      "image/png": "[encoded data removed]",
      "text/plain": [
       "<Figure size 1200x600 with 1 Axes>"
      ]
     },
     "metadata": {},
     "output_type": "display_data"
    }
   ],
   "source": [
    "# First, let's understand better who gets a CT scan\n",
    "tbi_data['ReceivedCT'] = ~tbi_data['PosCT'].isna()\n",
    "\n",
    "# Compare key characteristics between groups\n",
    "key_vars = ['AgeInMonth', 'GCSTotal', 'Gender', 'Vomit', 'LOCSeparate', 'Amnesia_verb', 'HA_verb']\n",
    "ct_vs_noct = tbi_data.groupby('ReceivedCT')[key_vars].agg(['mean', 'median', 'count']).T\n",
    "\n",
    "# Display in a more readable format\n",
    "print(\"Comparison between patients with and without CT scans:\")\n",
    "display(ct_vs_noct)\n",
    "\n",
    "# Analyze CT rates by GCS\n",
    "# Fix the previous error by using more explicit approach\n",
    "gcs_ct_rates = pd.DataFrame()\n",
    "for gcs in sorted(tbi_data['GCSTotal'].dropna().unique()):\n",
    "    subset = tbi_data[tbi_data['GCSTotal'] == gcs]\n",
    "    ct_rate = (subset['ReceivedCT'].mean() * 100)\n",
    "    count = len(subset)\n",
    "    gcs_ct_rates = pd.concat([gcs_ct_rates, pd.DataFrame({'GCS': gcs, 'CT_Rate': ct_rate, 'Count': count}, index=[0])], ignore_index=True)\n",
    "\n",
    "plt.figure(figsize=(12, 6))\n",
    "plt.bar(gcs_ct_rates['GCS'].astype(str), gcs_ct_rates['CT_Rate'])\n",
    "plt.xlabel('GCS Score')\n",
    "plt.ylabel('CT Scan Rate (%)')\n",
    "plt.title('Percentage of Patients Receiving CT Scan by GCS Score')\n",
    "for i, row in gcs_ct_rates.iterrows():\n",
    "    plt.text(i, row['CT_Rate'] + 1, f'n={int(row[\"Count\"])}', ha='center')\n",
    "plt.tight_layout()\n",
    "plt.show()"
   ]
  },
  {
   "cell_type": "code",
   "execution_count": 8,
   "id": "129f368d-2b82-4b4a-afbb-7a7ddefd3655",
   "metadata": {},
   "outputs": [
    {
     "name": "stdout",
     "output_type": "stream",
     "text": [
      "\n",
      "Values in Amnesia_verb:\n"
     ]
    },
    {
     "data": {
      "text/plain": [
       "Amnesia_verb\n",
       "0.0     21751\n",
       "91.0    14805\n",
       "1.0      4547\n",
       "NaN      2296\n",
       "Name: count, dtype: int64"
      ]
     },
     "metadata": {},
     "output_type": "display_data"
    },
    {
     "name": "stdout",
     "output_type": "stream",
     "text": [
      "\n",
      "Values in HA_verb:\n"
     ]
    },
    {
     "data": {
      "text/plain": [
       "HA_verb\n",
       "0.0     15881\n",
       "91.0    14060\n",
       "1.0     12806\n",
       "NaN       652\n",
       "Name: count, dtype: int64"
      ]
     },
     "metadata": {},
     "output_type": "display_data"
    },
    {
     "name": "stdout",
     "output_type": "stream",
     "text": [
      "\n",
      "Values in LOCSeparate:\n"
     ]
    },
    {
     "data": {
      "text/plain": [
       "LOCSeparate\n",
       "0.0    34665\n",
       "1.0     4830\n",
       "2.0     2012\n",
       "NaN     1892\n",
       "Name: count, dtype: int64"
      ]
     },
     "metadata": {},
     "output_type": "display_data"
    },
    {
     "name": "stdout",
     "output_type": "stream",
     "text": [
      "\n",
      "Values in Vomit:\n"
     ]
    },
    {
     "data": {
      "text/plain": [
       "Vomit\n",
       "0.0    37152\n",
       "1.0     5804\n",
       "NaN      443\n",
       "Name: count, dtype: int64"
      ]
     },
     "metadata": {},
     "output_type": "display_data"
    }
   ],
   "source": [
    "# First, check for special codes that might indicate \"not assessed\" vs \"absent\"\n",
    "for var in ['Amnesia_verb', 'HA_verb', 'LOCSeparate', 'Vomit']:\n",
    "    print(f\"\\nValues in {var}:\")\n",
    "    display(tbi_data[var].value_counts(dropna=False))\n",
    "\n",
    "# Clinical imputation for symptom variables\n",
    "# Let's create a dataset with both conservative and indicator approaches\n",
    "modeling_data = tbi_data.copy()\n",
    "\n",
    "# For each clinical symptom, create:\n",
    "# 1. A conservative imputation (assume symptom absent if not documented)\n",
    "# 2. A missingness indicator (might indicate inability to assess)\n",
    "clinical_symptoms = ['Amnesia_verb', 'HA_verb', 'LOCSeparate', 'Vomit', 'Seiz']\n",
    "for symptom in clinical_symptoms:\n",
    "    if symptom in modeling_data.columns:\n",
    "        # Create indicator for missingness\n",
    "        modeling_data[f'{symptom}_missing'] = modeling_data[symptom].isna()\n",
    "        \n",
    "        # Conservatively impute missing as 0 (absent)\n",
    "        # Note: First check if 0 is a valid value in the data dictionary\n",
    "        modeling_data[f'{symptom}_imputed'] = modeling_data[symptom].fillna(0)"
   ]
  },
  {
   "cell_type": "code",
   "execution_count": 9,
   "id": "33d84ef6-85a2-496f-9376-aa5f8802f062",
   "metadata": {},
   "outputs": [
    {
     "name": "stdout",
     "output_type": "stream",
     "text": [
      "Comparison between patients with and without CT scans:\n"
     ]
    },
    {
     "data": {
      "text/html": [
       "<div>\n",
       "<style scoped>\n",
       "    .dataframe tbody tr th:only-of-type {\n",
       "        vertical-align: middle;\n",
       "    }\n",
       "\n",
       "    .dataframe tbody tr th {\n",
       "        vertical-align: top;\n",
       "    }\n",
       "\n",
       "    .dataframe thead th {\n",
       "        text-align: right;\n",
       "    }\n",
       "</style>\n",
       "<table border=\"1\" class=\"dataframe\">\n",
       "  <thead>\n",
       "    <tr style=\"text-align: right;\">\n",
       "      <th></th>\n",
       "      <th>ReceivedCT</th>\n",
       "      <th>True</th>\n",
       "    </tr>\n",
       "  </thead>\n",
       "  <tbody>\n",
       "    <tr>\n",
       "      <th rowspan=\"3\" valign=\"top\">AgeInMonth</th>\n",
       "      <th>mean</th>\n",
       "      <td>84.429342</td>\n",
       "    </tr>\n",
       "    <tr>\n",
       "      <th>median</th>\n",
       "      <td>67.000000</td>\n",
       "    </tr>\n",
       "    <tr>\n",
       "      <th>count</th>\n",
       "      <td>43399.000000</td>\n",
       "    </tr>\n",
       "    <tr>\n",
       "      <th rowspan=\"3\" valign=\"top\">GCSTotal</th>\n",
       "      <th>mean</th>\n",
       "      <td>14.840711</td>\n",
       "    </tr>\n",
       "    <tr>\n",
       "      <th>median</th>\n",
       "      <td>15.000000</td>\n",
       "    </tr>\n",
       "    <tr>\n",
       "      <th>count</th>\n",
       "      <td>43399.000000</td>\n",
       "    </tr>\n",
       "    <tr>\n",
       "      <th rowspan=\"3\" valign=\"top\">Gender</th>\n",
       "      <th>mean</th>\n",
       "      <td>1.376555</td>\n",
       "    </tr>\n",
       "    <tr>\n",
       "      <th>median</th>\n",
       "      <td>1.000000</td>\n",
       "    </tr>\n",
       "    <tr>\n",
       "      <th>count</th>\n",
       "      <td>43396.000000</td>\n",
       "    </tr>\n",
       "    <tr>\n",
       "      <th rowspan=\"3\" valign=\"top\">Vomit</th>\n",
       "      <th>mean</th>\n",
       "      <td>0.135115</td>\n",
       "    </tr>\n",
       "    <tr>\n",
       "      <th>median</th>\n",
       "      <td>0.000000</td>\n",
       "    </tr>\n",
       "    <tr>\n",
       "      <th>count</th>\n",
       "      <td>42956.000000</td>\n",
       "    </tr>\n",
       "    <tr>\n",
       "      <th rowspan=\"3\" valign=\"top\">LOCSeparate</th>\n",
       "      <th>mean</th>\n",
       "      <td>0.213313</td>\n",
       "    </tr>\n",
       "    <tr>\n",
       "      <th>median</th>\n",
       "      <td>0.000000</td>\n",
       "    </tr>\n",
       "    <tr>\n",
       "      <th>count</th>\n",
       "      <td>41507.000000</td>\n",
       "    </tr>\n",
       "    <tr>\n",
       "      <th rowspan=\"3\" valign=\"top\">Amnesia_verb</th>\n",
       "      <th>mean</th>\n",
       "      <td>32.888159</td>\n",
       "    </tr>\n",
       "    <tr>\n",
       "      <th>median</th>\n",
       "      <td>0.000000</td>\n",
       "    </tr>\n",
       "    <tr>\n",
       "      <th>count</th>\n",
       "      <td>41103.000000</td>\n",
       "    </tr>\n",
       "    <tr>\n",
       "      <th rowspan=\"3\" valign=\"top\">HA_verb</th>\n",
       "      <th>mean</th>\n",
       "      <td>30.230566</td>\n",
       "    </tr>\n",
       "    <tr>\n",
       "      <th>median</th>\n",
       "      <td>1.000000</td>\n",
       "    </tr>\n",
       "    <tr>\n",
       "      <th>count</th>\n",
       "      <td>42747.000000</td>\n",
       "    </tr>\n",
       "  </tbody>\n",
       "</table>\n",
       "</div>"
      ],
      "text/plain": [
       "ReceivedCT                   True\n",
       "AgeInMonth   mean       84.429342\n",
       "             median     67.000000\n",
       "             count   43399.000000\n",
       "GCSTotal     mean       14.840711\n",
       "             median     15.000000\n",
       "             count   43399.000000\n",
       "Gender       mean        1.376555\n",
       "             median      1.000000\n",
       "             count   43396.000000\n",
       "Vomit        mean        0.135115\n",
       "             median      0.000000\n",
       "             count   42956.000000\n",
       "LOCSeparate  mean        0.213313\n",
       "             median      0.000000\n",
       "             count   41507.000000\n",
       "Amnesia_verb mean       32.888159\n",
       "             median      0.000000\n",
       "             count   41103.000000\n",
       "HA_verb      mean       30.230566\n",
       "             median      1.000000\n",
       "             count   42747.000000"
      ]
     },
     "metadata": {},
     "output_type": "display_data"
    },
    {
     "data": {
      "image/png": "[encoded data removed]",
      "text/plain": [
       "<Figure size 1200x600 with 1 Axes>"
      ]
     },
     "metadata": {},
     "output_type": "display_data"
    }
   ],
   "source": [
    "# First, let's understand better who gets a CT scan\n",
    "tbi_data['ReceivedCT'] = ~tbi_data['PosCT'].isna()\n",
    "\n",
    "# Compare key characteristics between groups\n",
    "key_vars = ['AgeInMonth', 'GCSTotal', 'Gender', 'Vomit', 'LOCSeparate', 'Amnesia_verb', 'HA_verb']\n",
    "ct_vs_noct = tbi_data.groupby('ReceivedCT')[key_vars].agg(['mean', 'median', 'count']).T\n",
    "\n",
    "# Display in a more readable format\n",
    "print(\"Comparison between patients with and without CT scans:\")\n",
    "display(ct_vs_noct)\n",
    "\n",
    "# Analyze CT rates by GCS\n",
    "# Fix the previous error by using more explicit approach\n",
    "gcs_ct_rates = pd.DataFrame()\n",
    "for gcs in sorted(tbi_data['GCSTotal'].dropna().unique()):\n",
    "    subset = tbi_data[tbi_data['GCSTotal'] == gcs]\n",
    "    ct_rate = (subset['ReceivedCT'].mean() * 100)\n",
    "    count = len(subset)\n",
    "    gcs_ct_rates = pd.concat([gcs_ct_rates, pd.DataFrame({'GCS': gcs, 'CT_Rate': ct_rate, 'Count': count}, index=[0])], ignore_index=True)\n",
    "\n",
    "plt.figure(figsize=(12, 6))\n",
    "plt.bar(gcs_ct_rates['GCS'].astype(str), gcs_ct_rates['CT_Rate'])\n",
    "plt.xlabel('GCS Score')\n",
    "plt.ylabel('CT Scan Rate (%)')\n",
    "plt.title('Percentage of Patients Receiving CT Scan by GCS Score')\n",
    "for i, row in gcs_ct_rates.iterrows():\n",
    "    plt.text(i, row['CT_Rate'] + 1, f'n={int(row[\"Count\"])}', ha='center')\n",
    "plt.tight_layout()\n",
    "plt.show()"
   ]
  },
  {
   "cell_type": "code",
   "execution_count": 10,
   "id": "5562ff63-d0f1-44bc-b7ce-e4afa43eca80",
   "metadata": {},
   "outputs": [
    {
     "name": "stdout",
     "output_type": "stream",
     "text": [
      "\n",
      "Values in Amnesia_verb:\n"
     ]
    },
    {
     "data": {
      "text/plain": [
       "Amnesia_verb\n",
       "0.0     21751\n",
       "91.0    14805\n",
       "1.0      4547\n",
       "NaN      2296\n",
       "Name: count, dtype: int64"
      ]
     },
     "metadata": {},
     "output_type": "display_data"
    },
    {
     "name": "stdout",
     "output_type": "stream",
     "text": [
      "\n",
      "Values in HA_verb:\n"
     ]
    },
    {
     "data": {
      "text/plain": [
       "HA_verb\n",
       "0.0     15881\n",
       "91.0    14060\n",
       "1.0     12806\n",
       "NaN       652\n",
       "Name: count, dtype: int64"
      ]
     },
     "metadata": {},
     "output_type": "display_data"
    },
    {
     "name": "stdout",
     "output_type": "stream",
     "text": [
      "\n",
      "Values in LOCSeparate:\n"
     ]
    },
    {
     "data": {
      "text/plain": [
       "LOCSeparate\n",
       "0.0    34665\n",
       "1.0     4830\n",
       "2.0     2012\n",
       "NaN     1892\n",
       "Name: count, dtype: int64"
      ]
     },
     "metadata": {},
     "output_type": "display_data"
    },
    {
     "name": "stdout",
     "output_type": "stream",
     "text": [
      "\n",
      "Values in Vomit:\n"
     ]
    },
    {
     "data": {
      "text/plain": [
       "Vomit\n",
       "0.0    37152\n",
       "1.0     5804\n",
       "NaN      443\n",
       "Name: count, dtype: int64"
      ]
     },
     "metadata": {},
     "output_type": "display_data"
    }
   ],
   "source": [
    "# First, check for special codes that might indicate \"not assessed\" vs \"absent\"\n",
    "for var in ['Amnesia_verb', 'HA_verb', 'LOCSeparate', 'Vomit']:\n",
    "    print(f\"\\nValues in {var}:\")\n",
    "    display(tbi_data[var].value_counts(dropna=False))\n",
    "\n",
    "# Clinical imputation for symptom variables\n",
    "# Let's create a dataset with both conservative and indicator approaches\n",
    "modeling_data = tbi_data.copy()\n",
    "\n",
    "# For each clinical symptom, create:\n",
    "# 1. A conservative imputation (assume symptom absent if not documented)\n",
    "# 2. A missingness indicator (might indicate inability to assess)\n",
    "clinical_symptoms = ['Amnesia_verb', 'HA_verb', 'LOCSeparate', 'Vomit', 'Seiz']\n",
    "for symptom in clinical_symptoms:\n",
    "    if symptom in modeling_data.columns:\n",
    "        # Create indicator for missingness\n",
    "        modeling_data[f'{symptom}_missing'] = modeling_data[symptom].isna()\n",
    "        \n",
    "        # Conservatively impute missing as 0 (absent)\n",
    "        # Note: First check if 0 is a valid value in the data dictionary\n",
    "        modeling_data[f'{symptom}_imputed'] = modeling_data[symptom].fillna(0)"
   ]
  },
  {
   "cell_type": "code",
   "execution_count": 11,
   "id": "abca06b0-bf55-47a8-9b14-afc5a60a58c8",
   "metadata": {},
   "outputs": [
    {
     "name": "stdout",
     "output_type": "stream",
     "text": [
      "Excel files that might contain data dictionary information:\n",
      "- /Users/andrechu/Desktop/UnivUtah/BMI6016/PEACARN/Data/TBI PUD Documentation 10-08-2013.xlsx\n",
      "\n",
      "Reading documentation from: /Users/andrechu/Desktop/UnivUtah/BMI6016/PEACARN/Data/TBI PUD Documentation 10-08-2013.xlsx\n",
      "\n",
      "Sheets in documentation file:\n",
      "- Sheet1\n",
      "- Sheet2\n",
      "- Sheet3\n",
      "\n",
      "Preview of first sheet in documentation file:\n"
     ]
    },
    {
     "data": {
      "text/html": [
       "<div>\n",
       "<style scoped>\n",
       "    .dataframe tbody tr th:only-of-type {\n",
       "        vertical-align: middle;\n",
       "    }\n",
       "\n",
       "    .dataframe tbody tr th {\n",
       "        vertical-align: top;\n",
       "    }\n",
       "\n",
       "    .dataframe thead th {\n",
       "        text-align: right;\n",
       "    }\n",
       "</style>\n",
       "<table border=\"1\" class=\"dataframe\">\n",
       "  <thead>\n",
       "    <tr style=\"text-align: right;\">\n",
       "      <th></th>\n",
       "      <th>Dataset Programs</th>\n",
       "      <th>Unnamed: 1</th>\n",
       "      <th>Unnamed: 2</th>\n",
       "      <th>Unnamed: 3</th>\n",
       "    </tr>\n",
       "  </thead>\n",
       "  <tbody>\n",
       "    <tr>\n",
       "      <th>0</th>\n",
       "      <td>Introduction:</td>\n",
       "      <td>This prospective observational cohort study en...</td>\n",
       "      <td>NaN</td>\n",
       "      <td>NaN</td>\n",
       "    </tr>\n",
       "    <tr>\n",
       "      <th>1</th>\n",
       "      <td>Inclusion/Exclusion for Public Use Dataset:</td>\n",
       "      <td>Children presenting within 24 hours of head tr...</td>\n",
       "      <td>NaN</td>\n",
       "      <td>NaN</td>\n",
       "    </tr>\n",
       "    <tr>\n",
       "      <th>2</th>\n",
       "      <td>Data Collection:</td>\n",
       "      <td>Trained site investigators and other emergency...</td>\n",
       "      <td>NaN</td>\n",
       "      <td>NaN</td>\n",
       "    </tr>\n",
       "    <tr>\n",
       "      <th>3</th>\n",
       "      <td>Outcomes:</td>\n",
       "      <td>We defined clinically-important TBI (ciTBI) a ...</td>\n",
       "      <td>NaN</td>\n",
       "      <td>NaN</td>\n",
       "    </tr>\n",
       "    <tr>\n",
       "      <th>4</th>\n",
       "      <td>Follow-up Procedures:</td>\n",
       "      <td>Patients were admitted to the hospital at emer...</td>\n",
       "      <td>NaN</td>\n",
       "      <td>NaN</td>\n",
       "    </tr>\n",
       "    <tr>\n",
       "      <th>5</th>\n",
       "      <td>TBI Prediction Rule:</td>\n",
       "      <td>A prediction rule for identifying children at ...</td>\n",
       "      <td>NaN</td>\n",
       "      <td>NaN</td>\n",
       "    </tr>\n",
       "    <tr>\n",
       "      <th>6</th>\n",
       "      <td>TBI Prediction Rule Article Reference:</td>\n",
       "      <td>Kuppermann N, Holmes JF, Dayan PS, Hoyle JD, A...</td>\n",
       "      <td>NaN</td>\n",
       "      <td>NaN</td>\n",
       "    </tr>\n",
       "    <tr>\n",
       "      <th>7</th>\n",
       "      <td>NaN</td>\n",
       "      <td>NaN</td>\n",
       "      <td>NaN</td>\n",
       "      <td>NaN</td>\n",
       "    </tr>\n",
       "    <tr>\n",
       "      <th>8</th>\n",
       "      <td>NaN</td>\n",
       "      <td>NaN</td>\n",
       "      <td>NaN</td>\n",
       "      <td>NaN</td>\n",
       "    </tr>\n",
       "    <tr>\n",
       "      <th>9</th>\n",
       "      <td>Variable Name</td>\n",
       "      <td>Label/Description</td>\n",
       "      <td>Format Name and Values</td>\n",
       "      <td>Notes</td>\n",
       "    </tr>\n",
       "  </tbody>\n",
       "</table>\n",
       "</div>"
      ],
      "text/plain": [
       "                              Dataset Programs  \\\n",
       "0                                Introduction:   \n",
       "1  Inclusion/Exclusion for Public Use Dataset:   \n",
       "2                             Data Collection:   \n",
       "3                                    Outcomes:   \n",
       "4                        Follow-up Procedures:   \n",
       "5                         TBI Prediction Rule:   \n",
       "6       TBI Prediction Rule Article Reference:   \n",
       "7                                          NaN   \n",
       "8                                          NaN   \n",
       "9                                Variable Name   \n",
       "\n",
       "                                          Unnamed: 1              Unnamed: 2  \\\n",
       "0  This prospective observational cohort study en...                     NaN   \n",
       "1  Children presenting within 24 hours of head tr...                     NaN   \n",
       "2  Trained site investigators and other emergency...                     NaN   \n",
       "3  We defined clinically-important TBI (ciTBI) a ...                     NaN   \n",
       "4  Patients were admitted to the hospital at emer...                     NaN   \n",
       "5  A prediction rule for identifying children at ...                     NaN   \n",
       "6  Kuppermann N, Holmes JF, Dayan PS, Hoyle JD, A...                     NaN   \n",
       "7                                                NaN                     NaN   \n",
       "8                                                NaN                     NaN   \n",
       "9                                  Label/Description  Format Name and Values   \n",
       "\n",
       "  Unnamed: 3  \n",
       "0        NaN  \n",
       "1        NaN  \n",
       "2        NaN  \n",
       "3        NaN  \n",
       "4        NaN  \n",
       "5        NaN  \n",
       "6        NaN  \n",
       "7        NaN  \n",
       "8        NaN  \n",
       "9      Notes  "
      ]
     },
     "metadata": {},
     "output_type": "display_data"
    }
   ],
   "source": [
    "import pandas as pd\n",
    "import numpy as np\n",
    "import matplotlib.pyplot as plt\n",
    "import seaborn as sns\n",
    "import os\n",
    "import glob\n",
    "import re\n",
    "\n",
    "# Path to the directory containing the dataset and documentation\n",
    "data_dir = '/Users/andrechu/Desktop/UnivUtah/BMI6016/PEACARN/Data'\n",
    "\n",
    "# Look for Excel files that might contain data dictionary information\n",
    "excel_files = glob.glob(os.path.join(data_dir, '**/*.xlsx'), recursive=True)\n",
    "print(\"Excel files that might contain data dictionary information:\")\n",
    "for file in excel_files:\n",
    "    print(f\"- {file}\")\n",
    "\n",
    "# If documentation Excel file exists, try to read it\n",
    "if len(excel_files) > 0:\n",
    "    dict_file = excel_files[0]  # Adjust index as needed\n",
    "    print(f\"\\nReading documentation from: {dict_file}\")\n",
    "    \n",
    "    # List all sheets in the Excel file\n",
    "    xls = pd.ExcelFile(dict_file)\n",
    "    print(\"\\nSheets in documentation file:\")\n",
    "    for sheet in xls.sheet_names:\n",
    "        print(f\"- {sheet}\")\n",
    "    \n",
    "    # Try to read the data dictionary sheet (names might vary)\n",
    "    try:\n",
    "        # Look for sheets that might contain data dictionary\n",
    "        dict_sheets = [sheet for sheet in xls.sheet_names if 'dict' in sheet.lower() or 'var' in sheet.lower() or 'code' in sheet.lower()]\n",
    "        \n",
    "        if dict_sheets:\n",
    "            data_dict = pd.read_excel(dict_file, sheet_name=dict_sheets[0])\n",
    "            print(f\"\\nPreview of data dictionary from sheet '{dict_sheets[0]}':\")\n",
    "            display(data_dict.head(10))\n",
    "        else:\n",
    "            # If no obvious dictionary sheet, try the first sheet\n",
    "            data_dict = pd.read_excel(dict_file, sheet_name=0)\n",
    "            print(\"\\nPreview of first sheet in documentation file:\")\n",
    "            display(data_dict.head(10))\n",
    "    except Exception as e:\n",
    "        print(f\"Error reading documentation: {e}\")"
   ]
  },
  {
   "cell_type": "code",
   "execution_count": 12,
   "id": "a076a12e-9623-4cef-993a-53c898dff55a",
   "metadata": {},
   "outputs": [
    {
     "name": "stdout",
     "output_type": "stream",
     "text": [
      "Dataset already loaded.\n",
      "\n",
      "=== DATASET OVERVIEW ===\n",
      "Shape: (43399, 126)\n",
      "Number of variables: 126\n",
      "Number of observations: 43399\n",
      "\n",
      "Variable types:\n"
     ]
    },
    {
     "data": {
      "text/plain": [
       "int64      77\n",
       "float64    48\n",
       "bool        1\n",
       "Name: count, dtype: int64"
      ]
     },
     "metadata": {},
     "output_type": "display_data"
    },
    {
     "name": "stdout",
     "output_type": "stream",
     "text": [
      "\n",
      "CT-related variables:\n",
      "- CTForm1\n"
     ]
    },
    {
     "data": {
      "text/plain": [
       "CTForm1\n",
       "0.0    26446\n",
       "1.0    16925\n",
       "NaN       28\n",
       "Name: count, dtype: int64"
      ]
     },
     "metadata": {},
     "output_type": "display_data"
    },
    {
     "name": "stdout",
     "output_type": "stream",
     "text": [
      "- CTSed\n"
     ]
    },
    {
     "data": {
      "text/plain": [
       "CTSed\n",
       "92.0    26474\n",
       "0.0     15357\n",
       "NaN       914\n",
       "1.0       654\n",
       "Name: count, dtype: int64"
      ]
     },
     "metadata": {},
     "output_type": "display_data"
    },
    {
     "name": "stdout",
     "output_type": "stream",
     "text": [
      "- CTSedAgitate\n"
     ]
    },
    {
     "data": {
      "text/plain": [
       "CTSedAgitate\n",
       "92    42745\n",
       "1       435\n",
       "0       219\n",
       "Name: count, dtype: int64"
      ]
     },
     "metadata": {},
     "output_type": "display_data"
    },
    {
     "name": "stdout",
     "output_type": "stream",
     "text": [
      "- CTSedAge\n"
     ]
    },
    {
     "data": {
      "text/plain": [
       "CTSedAge\n",
       "92    42745\n",
       "0       344\n",
       "1       310\n",
       "Name: count, dtype: int64"
      ]
     },
     "metadata": {},
     "output_type": "display_data"
    },
    {
     "name": "stdout",
     "output_type": "stream",
     "text": [
      "- CTSedRqst\n"
     ]
    },
    {
     "data": {
      "text/plain": [
       "CTSedRqst\n",
       "92    42745\n",
       "0       641\n",
       "1        13\n",
       "Name: count, dtype: int64"
      ]
     },
     "metadata": {},
     "output_type": "display_data"
    },
    {
     "name": "stdout",
     "output_type": "stream",
     "text": [
      "- CTSedOth\n"
     ]
    },
    {
     "data": {
      "text/plain": [
       "CTSedOth\n",
       "92    42745\n",
       "0       598\n",
       "1        56\n",
       "Name: count, dtype: int64"
      ]
     },
     "metadata": {},
     "output_type": "display_data"
    },
    {
     "name": "stdout",
     "output_type": "stream",
     "text": [
      "- CTDone\n"
     ]
    },
    {
     "data": {
      "text/plain": [
       "CTDone\n",
       "0    27500\n",
       "1    15899\n",
       "Name: count, dtype: int64"
      ]
     },
     "metadata": {},
     "output_type": "display_data"
    },
    {
     "name": "stdout",
     "output_type": "stream",
     "text": [
      "- EDCT\n"
     ]
    },
    {
     "data": {
      "text/plain": [
       "EDCT\n",
       "92    27500\n",
       "1     15787\n",
       "0       112\n",
       "Name: count, dtype: int64"
      ]
     },
     "metadata": {},
     "output_type": "display_data"
    },
    {
     "name": "stdout",
     "output_type": "stream",
     "text": [
      "- PosCT\n"
     ]
    },
    {
     "data": {
      "text/plain": [
       "PosCT\n",
       "92    27500\n",
       "0     14743\n",
       "1      1156\n",
       "Name: count, dtype: int64"
      ]
     },
     "metadata": {},
     "output_type": "display_data"
    },
    {
     "name": "stdout",
     "output_type": "stream",
     "text": [
      "- HospHeadPosCT\n"
     ]
    },
    {
     "data": {
      "text/plain": [
       "HospHeadPosCT\n",
       "0    42706\n",
       "1      693\n",
       "Name: count, dtype: int64"
      ]
     },
     "metadata": {},
     "output_type": "display_data"
    },
    {
     "name": "stdout",
     "output_type": "stream",
     "text": [
      "- ReceivedCT\n"
     ]
    },
    {
     "data": {
      "text/plain": [
       "ReceivedCT\n",
       "True    43399\n",
       "Name: count, dtype: int64"
      ]
     },
     "metadata": {},
     "output_type": "display_data"
    },
    {
     "name": "stdout",
     "output_type": "stream",
     "text": [
      "\n",
      "Symptom-related variables:\n",
      "\n",
      "Amnesia_verb:\n"
     ]
    },
    {
     "data": {
      "text/plain": [
       "Amnesia_verb\n",
       "0.0     21751\n",
       "91.0    14805\n",
       "1.0      4547\n",
       "NaN      2296\n",
       "Name: count, dtype: int64"
      ]
     },
     "metadata": {},
     "output_type": "display_data"
    },
    {
     "name": "stdout",
     "output_type": "stream",
     "text": [
      "\n",
      "IndAmnesia:\n"
     ]
    },
    {
     "data": {
      "text/plain": [
       "IndAmnesia\n",
       "92    26474\n",
       "0     14532\n",
       "1      2393\n",
       "Name: count, dtype: int64"
      ]
     },
     "metadata": {},
     "output_type": "display_data"
    },
    {
     "name": "stdout",
     "output_type": "stream",
     "text": [
      "\n",
      "HA_verb:\n"
     ]
    },
    {
     "data": {
      "text/plain": [
       "HA_verb\n",
       "0.0     15881\n",
       "91.0    14060\n",
       "1.0     12806\n",
       "NaN       652\n",
       "Name: count, dtype: int64"
      ]
     },
     "metadata": {},
     "output_type": "display_data"
    },
    {
     "name": "stdout",
     "output_type": "stream",
     "text": [
      "\n",
      "HASeverity:\n"
     ]
    },
    {
     "data": {
      "text/plain": [
       "HASeverity\n",
       "92.0    30593\n",
       "2.0      5671\n",
       "1.0      5266\n",
       "NaN      1044\n",
       "3.0       825\n",
       "Name: count, dtype: int64"
      ]
     },
     "metadata": {},
     "output_type": "display_data"
    },
    {
     "name": "stdout",
     "output_type": "stream",
     "text": [
      "\n",
      "HAStart:\n"
     ]
    },
    {
     "data": {
      "text/plain": [
       "HAStart\n",
       "92.0    30593\n",
       "2.0     10584\n",
       "NaN      1332\n",
       "3.0       629\n",
       "4.0       173\n",
       "1.0        88\n",
       "Name: count, dtype: int64"
      ]
     },
     "metadata": {},
     "output_type": "display_data"
    },
    {
     "name": "stdout",
     "output_type": "stream",
     "text": [
      "\n",
      "IndHA:\n"
     ]
    },
    {
     "data": {
      "text/plain": [
       "IndHA\n",
       "92    26474\n",
       "0     14081\n",
       "1      2844\n",
       "Name: count, dtype: int64"
      ]
     },
     "metadata": {},
     "output_type": "display_data"
    },
    {
     "name": "stdout",
     "output_type": "stream",
     "text": [
      "\n",
      "LOCSeparate:\n"
     ]
    },
    {
     "data": {
      "text/plain": [
       "LOCSeparate\n",
       "0.0    34665\n",
       "1.0     4830\n",
       "2.0     2012\n",
       "NaN     1892\n",
       "Name: count, dtype: int64"
      ]
     },
     "metadata": {},
     "output_type": "display_data"
    },
    {
     "name": "stdout",
     "output_type": "stream",
     "text": [
      "\n",
      "IndLOC:\n"
     ]
    },
    {
     "data": {
      "text/plain": [
       "IndLOC\n",
       "92    26474\n",
       "0     12605\n",
       "1      4320\n",
       "Name: count, dtype: int64"
      ]
     },
     "metadata": {},
     "output_type": "display_data"
    },
    {
     "name": "stdout",
     "output_type": "stream",
     "text": [
      "\n",
      "Vomit:\n"
     ]
    },
    {
     "data": {
      "text/plain": [
       "Vomit\n",
       "0.0    37152\n",
       "1.0     5804\n",
       "NaN      443\n",
       "Name: count, dtype: int64"
      ]
     },
     "metadata": {},
     "output_type": "display_data"
    },
    {
     "name": "stdout",
     "output_type": "stream",
     "text": [
      "\n",
      "VomitNbr:\n"
     ]
    },
    {
     "data": {
      "text/plain": [
       "VomitNbr\n",
       "92.0    37595\n",
       "1.0      2189\n",
       "3.0      2173\n",
       "2.0      1145\n",
       "NaN       297\n",
       "Name: count, dtype: int64"
      ]
     },
     "metadata": {},
     "output_type": "display_data"
    },
    {
     "name": "stdout",
     "output_type": "stream",
     "text": [
      "\n",
      "VomitStart:\n"
     ]
    },
    {
     "data": {
      "text/plain": [
       "VomitStart\n",
       "92.0    37595\n",
       "2.0      3114\n",
       "3.0      1592\n",
       "4.0       620\n",
       "NaN       413\n",
       "1.0        65\n",
       "Name: count, dtype: int64"
      ]
     },
     "metadata": {},
     "output_type": "display_data"
    },
    {
     "name": "stdout",
     "output_type": "stream",
     "text": [
      "\n",
      "VomitLast:\n"
     ]
    },
    {
     "data": {
      "text/plain": [
       "VomitLast\n",
       "92.0    37595\n",
       "1.0      2762\n",
       "2.0      1712\n",
       "NaN       992\n",
       "3.0       338\n",
       "Name: count, dtype: int64"
      ]
     },
     "metadata": {},
     "output_type": "display_data"
    },
    {
     "name": "stdout",
     "output_type": "stream",
     "text": [
      "\n",
      "IndVomit:\n"
     ]
    },
    {
     "data": {
      "text/plain": [
       "IndVomit\n",
       "92    26474\n",
       "0     13836\n",
       "1      3089\n",
       "Name: count, dtype: int64"
      ]
     },
     "metadata": {},
     "output_type": "display_data"
    },
    {
     "name": "stdout",
     "output_type": "stream",
     "text": [
      "\n",
      "Seiz:\n"
     ]
    },
    {
     "data": {
      "text/plain": [
       "Seiz\n",
       "0.0    41884\n",
       "NaN      912\n",
       "1.0      603\n",
       "Name: count, dtype: int64"
      ]
     },
     "metadata": {},
     "output_type": "display_data"
    },
    {
     "name": "stdout",
     "output_type": "stream",
     "text": [
      "\n",
      "SeizOccur:\n"
     ]
    },
    {
     "data": {
      "text/plain": [
       "SeizOccur\n",
       "92.0    42796\n",
       "1.0       253\n",
       "2.0       210\n",
       "NaN        71\n",
       "3.0        69\n",
       "Name: count, dtype: int64"
      ]
     },
     "metadata": {},
     "output_type": "display_data"
    },
    {
     "name": "stdout",
     "output_type": "stream",
     "text": [
      "\n",
      "SeizLen:\n"
     ]
    },
    {
     "data": {
      "text/plain": [
       "SeizLen\n",
       "92.0    42796\n",
       "1.0       259\n",
       "2.0       180\n",
       "NaN       117\n",
       "3.0        29\n",
       "4.0        18\n",
       "Name: count, dtype: int64"
      ]
     },
     "metadata": {},
     "output_type": "display_data"
    },
    {
     "name": "stdout",
     "output_type": "stream",
     "text": [
      "\n",
      "IndSeiz:\n"
     ]
    },
    {
     "data": {
      "text/plain": [
       "IndSeiz\n",
       "92    26474\n",
       "0     16423\n",
       "1       502\n",
       "Name: count, dtype: int64"
      ]
     },
     "metadata": {},
     "output_type": "display_data"
    },
    {
     "name": "stdout",
     "output_type": "stream",
     "text": [
      "\n",
      "Dizzy:\n"
     ]
    },
    {
     "data": {
      "text/plain": [
       "Dizzy\n",
       "0.0    24821\n",
       "NaN    15972\n",
       "1.0     2606\n",
       "Name: count, dtype: int64"
      ]
     },
     "metadata": {},
     "output_type": "display_data"
    }
   ],
   "source": [
    "# Load the main TBI dataset if not already loaded\n",
    "try:\n",
    "    tbi_data.head()\n",
    "    print(\"Dataset already loaded.\")\n",
    "except:\n",
    "    tbi_data = pd.read_csv(os.path.join(data_dir, 'TBI PUD 10-08-2013.csv'))\n",
    "    print(\"Dataset loaded.\")\n",
    "\n",
    "# Get comprehensive dataset information\n",
    "print(\"\\n=== DATASET OVERVIEW ===\")\n",
    "print(f\"Shape: {tbi_data.shape}\")\n",
    "print(f\"Number of variables: {tbi_data.shape[1]}\")\n",
    "print(f\"Number of observations: {tbi_data.shape[0]}\")\n",
    "\n",
    "# Analyze variable types\n",
    "dtypes = tbi_data.dtypes.value_counts()\n",
    "print(\"\\nVariable types:\")\n",
    "display(dtypes)\n",
    "\n",
    "# Check for CT-related variables\n",
    "ct_vars = [col for col in tbi_data.columns if 'CT' in col]\n",
    "print(\"\\nCT-related variables:\")\n",
    "for var in ct_vars:\n",
    "    print(f\"- {var}\")\n",
    "    display(tbi_data[var].value_counts(dropna=False))\n",
    "\n",
    "# Check for symptom-related variables\n",
    "symptom_vars = ['Amnesia', 'HA', 'LOC', 'Vomit', 'Seiz', 'Dizzy']\n",
    "symptom_cols = []\n",
    "for symptom in symptom_vars:\n",
    "    symptom_cols.extend([col for col in tbi_data.columns if symptom in col])\n",
    "\n",
    "print(\"\\nSymptom-related variables:\")\n",
    "for var in symptom_cols:\n",
    "    print(f\"\\n{var}:\")\n",
    "    display(tbi_data[var].value_counts(dropna=False))"
   ]
  },
  {
   "cell_type": "code",
   "execution_count": 13,
   "id": "bb9186af-180f-496d-9af3-2e710349aafe",
   "metadata": {},
   "outputs": [
    {
     "name": "stdout",
     "output_type": "stream",
     "text": [
      "Potential special codes detected:\n",
      "\n",
      "EmplType:\n",
      "  Value 5.0: 22216 occurrences (51.19%)\n",
      "  Value 3.0: 14333 occurrences (33.03%)\n",
      "  Value 4.0: 3807 occurrences (8.77%)\n",
      "  Value 2.0: 1051 occurrences (2.42%)\n",
      "\n",
      "Certification:\n",
      "  Value 3: 27298 occurrences (62.90%)\n",
      "  Value 2: 10215 occurrences (23.54%)\n",
      "  Value 90: 718 occurrences (1.65%)\n",
      "\n",
      "InjuryMech:\n",
      "  Value 8.0: 11883 occurrences (27.38%)\n",
      "  Value 6.0: 4733 occurrences (10.91%)\n",
      "  Value 90.0: 3465 occurrences (7.98%)\n",
      "  Value 12.0: 3158 occurrences (7.28%)\n",
      "  Value 11.0: 3016 occurrences (6.95%)\n",
      "  Value 10.0: 2979 occurrences (6.86%)\n",
      "  Value 9.0: 2908 occurrences (6.70%)\n",
      "  Value 7.0: 2455 occurrences (5.66%)\n",
      "  Value 4.0: 1701 occurrences (3.92%)\n",
      "  Value 2.0: 1433 occurrences (3.30%)\n",
      "  Value 5.0: 901 occurrences (2.08%)\n",
      "  Value 3.0: 556 occurrences (1.28%)\n",
      "\n",
      "High_impact_InjSev:\n",
      "  Value 2.0: 29268 occurrences (67.44%)\n",
      "  Value 3.0: 6609 occurrences (15.23%)\n",
      "\n",
      "Amnesia_verb:\n",
      "  Value 91.0: 14805 occurrences (34.11%)\n",
      "  Value nan: 2296 occurrences (5.29%)\n",
      "\n",
      "LOCSeparate:\n",
      "  Value 2.0: 2012 occurrences (4.64%)\n",
      "  Value nan: 1892 occurrences (4.36%)\n",
      "\n",
      "LocLen:\n",
      "  Value 92.0: 36557 occurrences (84.23%)\n",
      "  Value nan: 2556 occurrences (5.89%)\n",
      "  Value 2.0: 1867 occurrences (4.30%)\n",
      "  Value 3.0: 1133 occurrences (2.61%)\n",
      "\n",
      "Seiz:\n",
      "  Value nan: 912 occurrences (2.10%)\n",
      "\n",
      "SeizOccur:\n",
      "  Value 92.0: 42796 occurrences (98.61%)\n",
      "\n",
      "SeizLen:\n",
      "  Value 92.0: 42796 occurrences (98.61%)\n",
      "\n",
      "ActNorm:\n",
      "  Value nan: 3335 occurrences (7.68%)\n",
      "\n",
      "HA_verb:\n",
      "  Value 91.0: 14060 occurrences (32.40%)\n",
      "  Value nan: 652 occurrences (1.50%)\n",
      "\n",
      "HASeverity:\n",
      "  Value 92.0: 30593 occurrences (70.49%)\n",
      "  Value 2.0: 5671 occurrences (13.07%)\n",
      "  Value nan: 1044 occurrences (2.41%)\n",
      "  Value 3.0: 825 occurrences (1.90%)\n",
      "\n",
      "HAStart:\n",
      "  Value 92.0: 30593 occurrences (70.49%)\n",
      "  Value 2.0: 10584 occurrences (24.39%)\n",
      "  Value nan: 1332 occurrences (3.07%)\n",
      "  Value 3.0: 629 occurrences (1.45%)\n",
      "\n",
      "Vomit:\n",
      "  Value nan: 443 occurrences (1.02%)\n",
      "\n",
      "VomitNbr:\n",
      "  Value 92.0: 37595 occurrences (86.63%)\n",
      "  Value 3.0: 2173 occurrences (5.01%)\n",
      "  Value 2.0: 1145 occurrences (2.64%)\n",
      "\n",
      "VomitStart:\n",
      "  Value 92.0: 37595 occurrences (86.63%)\n",
      "  Value 2.0: 3114 occurrences (7.18%)\n",
      "  Value 3.0: 1592 occurrences (3.67%)\n",
      "  Value 4.0: 620 occurrences (1.43%)\n",
      "\n",
      "VomitLast:\n",
      "  Value 92.0: 37595 occurrences (86.63%)\n",
      "  Value 2.0: 1712 occurrences (3.94%)\n",
      "  Value nan: 992 occurrences (2.29%)\n",
      "\n",
      "Dizzy:\n",
      "  Value nan: 15972 occurrences (36.80%)\n",
      "\n",
      "GCSEye:\n",
      "  Value 4.0: 41148 occurrences (94.81%)\n",
      "  Value nan: 1288 occurrences (2.97%)\n",
      "  Value 3.0: 506 occurrences (1.17%)\n",
      "\n",
      "GCSVerbal:\n",
      "  Value 5.0: 40156 occurrences (92.53%)\n",
      "  Value 4.0: 1433 occurrences (3.30%)\n",
      "  Value nan: 1298 occurrences (2.99%)\n",
      "\n",
      "GCSMotor:\n",
      "  Value 6.0: 41325 occurrences (95.22%)\n",
      "  Value nan: 1310 occurrences (3.02%)\n",
      "\n",
      "GCSTotal:\n",
      "  Value 15: 41086 occurrences (94.67%)\n",
      "  Value 14: 1344 occurrences (3.10%)\n",
      "\n",
      "GCSGroup:\n",
      "  Value 2: 42430 occurrences (97.77%)\n",
      "\n",
      "AMSAgitated:\n",
      "  Value 92: 36934 occurrences (85.10%)\n",
      "\n",
      "AMSSleep:\n",
      "  Value 92: 36934 occurrences (85.10%)\n",
      "\n",
      "AMSSlow:\n",
      "  Value 92: 36934 occurrences (85.10%)\n",
      "\n",
      "AMSRepeat:\n",
      "  Value 92: 36934 occurrences (85.10%)\n",
      "\n",
      "AMSOth:\n",
      "  Value 92: 36934 occurrences (85.10%)\n",
      "\n",
      "SFxPalp:\n",
      "  Value 2.0: 977 occurrences (2.25%)\n",
      "\n",
      "SFxPalpDepress:\n",
      "  Value 92.0: 43175 occurrences (99.48%)\n",
      "\n",
      "SFxBas:\n",
      "  Value nan: 445 occurrences (1.03%)\n",
      "\n",
      "SFxBasHem:\n",
      "  Value 92: 43003 occurrences (99.09%)\n",
      "\n",
      "SFxBasOto:\n",
      "  Value 92: 43003 occurrences (99.09%)\n",
      "\n",
      "SFxBasPer:\n",
      "  Value 92: 43003 occurrences (99.09%)\n",
      "\n",
      "SFxBasRet:\n",
      "  Value 92: 43003 occurrences (99.09%)\n",
      "\n",
      "SFxBasRhi:\n",
      "  Value 92: 43003 occurrences (99.09%)\n",
      "\n",
      "HemaLoc:\n",
      "  Value 92.0: 26261 occurrences (60.51%)\n",
      "  Value 3.0: 4422 occurrences (10.19%)\n",
      "  Value 2.0: 3605 occurrences (8.31%)\n",
      "\n",
      "HemaSize:\n",
      "  Value 92.0: 26261 occurrences (60.51%)\n",
      "  Value 2.0: 9597 occurrences (22.11%)\n",
      "  Value 3.0: 3279 occurrences (7.56%)\n",
      "  Value nan: 742 occurrences (1.71%)\n",
      "\n",
      "ClavFace:\n",
      "  Value 92: 15581 occurrences (35.90%)\n",
      "\n",
      "ClavNeck:\n",
      "  Value 92: 15581 occurrences (35.90%)\n",
      "\n",
      "ClavFro:\n",
      "  Value 92: 15581 occurrences (35.90%)\n",
      "\n",
      "ClavOcc:\n",
      "  Value 92: 15581 occurrences (35.90%)\n",
      "\n",
      "ClavPar:\n",
      "  Value 92: 15581 occurrences (35.90%)\n",
      "\n",
      "ClavTem:\n",
      "  Value 92: 15581 occurrences (35.90%)\n",
      "\n",
      "NeuroD:\n",
      "  Value nan: 660 occurrences (1.52%)\n",
      "\n",
      "NeuroDMotor:\n",
      "  Value 92: 42711 occurrences (98.41%)\n",
      "\n",
      "NeuroDSensory:\n",
      "  Value 92: 42711 occurrences (98.41%)\n",
      "\n",
      "NeuroDCranial:\n",
      "  Value 92: 42711 occurrences (98.41%)\n",
      "\n",
      "NeuroDReflex:\n",
      "  Value 92: 42711 occurrences (98.41%)\n",
      "\n",
      "NeuroDOth:\n",
      "  Value 92: 42711 occurrences (98.41%)\n",
      "\n",
      "OSIExtremity:\n",
      "  Value 92: 38832 occurrences (89.48%)\n",
      "\n",
      "OSICut:\n",
      "  Value 92: 38832 occurrences (89.48%)\n",
      "\n",
      "OSICspine:\n",
      "  Value 92: 38832 occurrences (89.48%)\n",
      "\n",
      "OSIFlank:\n",
      "  Value 92: 38832 occurrences (89.48%)\n",
      "\n",
      "OSIAbdomen:\n",
      "  Value 92: 38832 occurrences (89.48%)\n",
      "\n",
      "OSIPelvis:\n",
      "  Value 92: 38832 occurrences (89.48%)\n",
      "\n",
      "OSIOth:\n",
      "  Value 92: 38832 occurrences (89.48%)\n",
      "\n",
      "Drugs:\n",
      "  Value nan: 1818 occurrences (4.19%)\n",
      "\n",
      "IndAge:\n",
      "  Value 92: 26474 occurrences (61.00%)\n",
      "\n",
      "IndAmnesia:\n",
      "  Value 92: 26474 occurrences (61.00%)\n",
      "\n",
      "IndAMS:\n",
      "  Value 92: 26474 occurrences (61.00%)\n",
      "\n",
      "IndClinSFx:\n",
      "  Value 92: 26474 occurrences (61.00%)\n",
      "\n",
      "IndHA:\n",
      "  Value 92: 26474 occurrences (61.00%)\n",
      "\n",
      "IndHema:\n",
      "  Value 92: 26474 occurrences (61.00%)\n",
      "\n",
      "IndLOC:\n",
      "  Value 92: 26474 occurrences (61.00%)\n",
      "\n",
      "IndMech:\n",
      "  Value 92: 26474 occurrences (61.00%)\n",
      "\n",
      "IndNeuroD:\n",
      "  Value 92: 26474 occurrences (61.00%)\n",
      "\n",
      "IndRqstMD:\n",
      "  Value 92: 26474 occurrences (61.00%)\n",
      "\n",
      "IndRqstParent:\n",
      "  Value 92: 26474 occurrences (61.00%)\n",
      "\n",
      "IndRqstTrauma:\n",
      "  Value 92: 26474 occurrences (61.00%)\n",
      "\n",
      "IndSeiz:\n",
      "  Value 92: 26474 occurrences (61.00%)\n",
      "\n",
      "IndVomit:\n",
      "  Value 92: 26474 occurrences (61.00%)\n",
      "\n",
      "IndXraySFx:\n",
      "  Value 92: 26474 occurrences (61.00%)\n",
      "\n",
      "IndOth:\n",
      "  Value 92: 26474 occurrences (61.00%)\n",
      "\n",
      "CTSed:\n",
      "  Value 92.0: 26474 occurrences (61.00%)\n",
      "  Value nan: 914 occurrences (2.11%)\n",
      "\n",
      "CTSedAgitate:\n",
      "  Value 92: 42745 occurrences (98.49%)\n",
      "\n",
      "CTSedAge:\n",
      "  Value 92: 42745 occurrences (98.49%)\n",
      "\n",
      "CTSedRqst:\n",
      "  Value 92: 42745 occurrences (98.49%)\n",
      "\n",
      "CTSedOth:\n",
      "  Value 92: 42745 occurrences (98.49%)\n",
      "\n",
      "AgeinYears:\n",
      "  Value 2: 3910 occurrences (9.01%)\n",
      "  Value 3: 2956 occurrences (6.81%)\n",
      "  Value 4: 2472 occurrences (5.70%)\n",
      "  Value 5: 2186 occurrences (5.04%)\n",
      "  Value 6: 2003 occurrences (4.62%)\n",
      "  Value 16: 1942 occurrences (4.47%)\n",
      "  Value 14: 1939 occurrences (4.47%)\n",
      "  Value 15: 1905 occurrences (4.39%)\n",
      "  Value 7: 1795 occurrences (4.14%)\n",
      "  Value 13: 1775 occurrences (4.09%)\n",
      "  Value 12: 1716 occurrences (3.95%)\n",
      "  Value 17: 1671 occurrences (3.85%)\n",
      "  Value 11: 1602 occurrences (3.69%)\n",
      "  Value 8: 1573 occurrences (3.62%)\n",
      "  Value 10: 1552 occurrences (3.58%)\n",
      "  Value 9: 1498 occurrences (3.45%)\n",
      "\n",
      "AgeTwoPlus:\n",
      "  Value 2: 32495 occurrences (74.87%)\n",
      "\n",
      "Gender:\n",
      "  Value 2.0: 16341 occurrences (37.65%)\n",
      "\n",
      "Ethnicity:\n",
      "  Value 2.0: 22158 occurrences (51.06%)\n",
      "  Value nan: 15966 occurrences (36.79%)\n",
      "\n",
      "Race:\n",
      "  Value 2.0: 15992 occurrences (36.85%)\n",
      "  Value nan: 3208 occurrences (7.39%)\n",
      "  Value 90.0: 1339 occurrences (3.09%)\n",
      "  Value 3.0: 861 occurrences (1.98%)\n",
      "\n",
      "Observed:\n",
      "  Value nan: 2376 occurrences (5.47%)\n",
      "\n",
      "EDDisposition:\n",
      "  Value 3.0: 2512 occurrences (5.79%)\n",
      "  Value 5.0: 980 occurrences (2.26%)\n",
      "  Value 4.0: 798 occurrences (1.84%)\n",
      "\n",
      "EDCT:\n",
      "  Value 92: 27500 occurrences (63.37%)\n",
      "\n",
      "PosCT:\n",
      "  Value 92: 27500 occurrences (63.37%)\n",
      "\n",
      "Finding1:\n",
      "  Value 92: 27500 occurrences (63.37%)\n",
      "\n",
      "Finding2:\n",
      "  Value 92: 27500 occurrences (63.37%)\n",
      "\n",
      "Finding3:\n",
      "  Value 92: 27500 occurrences (63.37%)\n",
      "\n",
      "Finding4:\n",
      "  Value 92: 27500 occurrences (63.37%)\n",
      "\n",
      "Finding5:\n",
      "  Value 92: 27500 occurrences (63.37%)\n",
      "\n",
      "Finding6:\n",
      "  Value 92: 27500 occurrences (63.37%)\n",
      "\n",
      "Finding7:\n",
      "  Value 92: 27500 occurrences (63.37%)\n",
      "\n",
      "Finding8:\n",
      "  Value 92: 27500 occurrences (63.37%)\n",
      "\n",
      "Finding9:\n",
      "  Value 92: 27500 occurrences (63.37%)\n",
      "\n",
      "Finding10:\n",
      "  Value 92: 27500 occurrences (63.37%)\n",
      "\n",
      "Finding11:\n",
      "  Value 92: 27500 occurrences (63.37%)\n",
      "\n",
      "Finding12:\n",
      "  Value 92: 27500 occurrences (63.37%)\n",
      "\n",
      "Finding13:\n",
      "  Value 92: 27500 occurrences (63.37%)\n",
      "\n",
      "Finding14:\n",
      "  Value 92: 27500 occurrences (63.37%)\n",
      "\n",
      "Finding20:\n",
      "  Value 92: 27500 occurrences (63.37%)\n",
      "\n",
      "Finding21:\n",
      "  Value 92: 27500 occurrences (63.37%)\n",
      "\n",
      "Finding22:\n",
      "  Value 92: 27500 occurrences (63.37%)\n",
      "\n",
      "Finding23:\n",
      "  Value 92: 27500 occurrences (63.37%)\n"
     ]
    }
   ],
   "source": [
    "# Function to detect potential special codes in numeric variables\n",
    "def find_special_codes(df, threshold=0.01):\n",
    "    special_codes = {}\n",
    "    \n",
    "    for col in df.columns:\n",
    "        if df[col].dtype in ['float64', 'int64']:\n",
    "            # Skip if column has too many unique values (likely continuous)\n",
    "            if df[col].nunique() > 50:\n",
    "                continue\n",
    "                \n",
    "            # Get value counts and identify potential codes\n",
    "            vc = df[col].value_counts(dropna=False)\n",
    "            total = len(df)\n",
    "            \n",
    "            # Look for unusual values that appear frequently\n",
    "            unusual_values = []\n",
    "            for val, count in vc.items():\n",
    "                if val not in [0, 1, np.nan] and count/total > threshold:\n",
    "                    unusual_values.append((val, count, count/total*100))\n",
    "            \n",
    "            if unusual_values:\n",
    "                special_codes[col] = unusual_values\n",
    "    \n",
    "    return special_codes\n",
    "\n",
    "# Find potential special codes\n",
    "special_codes = find_special_codes(tbi_data)\n",
    "\n",
    "print(\"Potential special codes detected:\")\n",
    "for col, codes in special_codes.items():\n",
    "    print(f\"\\n{col}:\")\n",
    "    for code, count, percent in codes:\n",
    "        print(f\"  Value {code}: {count} occurrences ({percent:.2f}%)\")"
   ]
  },
  {
   "cell_type": "code",
   "execution_count": 14,
   "id": "2e2986e0-d964-466f-a5ff-b6d3b5f3558c",
   "metadata": {},
   "outputs": [
    {
     "name": "stdout",
     "output_type": "stream",
     "text": [
      "\n",
      "Variables containing code 91.0 (4 variables):\n",
      "- PatNum: 1 occurrences (0.00%)\n",
      "- Amnesia_verb: 14805 occurrences (34.11%)\n",
      "- HA_verb: 14060 occurrences (32.40%)\n",
      "- AgeInMonth: 139 occurrences (0.32%)\n"
     ]
    },
    {
     "name": "stderr",
     "output_type": "stream",
     "text": [
      "/var/folders/cz/4qrgzl3d6737hknhqtft5nlm0000gn/T/ipykernel_71428/844396929.py:36: FutureWarning: The default of observed=False is deprecated and will be changed to True in a future version of pandas. Pass observed=False to retain current behavior or observed=True to adopt the future default and silence this warning.\n",
      "  pct_by_age = df_temp.groupby('AgeGroup')['Code91'].mean() * 100\n",
      "/var/folders/cz/4qrgzl3d6737hknhqtft5nlm0000gn/T/ipykernel_71428/844396929.py:36: FutureWarning: The default of observed=False is deprecated and will be changed to True in a future version of pandas. Pass observed=False to retain current behavior or observed=True to adopt the future default and silence this warning.\n",
      "  pct_by_age = df_temp.groupby('AgeGroup')['Code91'].mean() * 100\n",
      "/var/folders/cz/4qrgzl3d6737hknhqtft5nlm0000gn/T/ipykernel_71428/844396929.py:36: FutureWarning: The default of observed=False is deprecated and will be changed to True in a future version of pandas. Pass observed=False to retain current behavior or observed=True to adopt the future default and silence this warning.\n",
      "  pct_by_age = df_temp.groupby('AgeGroup')['Code91'].mean() * 100\n",
      "/var/folders/cz/4qrgzl3d6737hknhqtft5nlm0000gn/T/ipykernel_71428/844396929.py:36: FutureWarning: The default of observed=False is deprecated and will be changed to True in a future version of pandas. Pass observed=False to retain current behavior or observed=True to adopt the future default and silence this warning.\n",
      "  pct_by_age = df_temp.groupby('AgeGroup')['Code91'].mean() * 100\n"
     ]
    },
    {
     "data": {
      "image/png": "[encoded data removed]",
      "text/plain": [
       "<Figure size 1200x800 with 4 Axes>"
      ]
     },
     "metadata": {},
     "output_type": "display_data"
    }
   ],
   "source": [
    "# Examine all variables that have the special code 91.0\n",
    "code_91_vars = []\n",
    "for col in tbi_data.columns:\n",
    "    if tbi_data[col].dtype in ['float64', 'int64'] and 91.0 in tbi_data[col].values:\n",
    "        code_91_vars.append(col)\n",
    "\n",
    "print(f\"\\nVariables containing code 91.0 ({len(code_91_vars)} variables):\")\n",
    "for var in code_91_vars:\n",
    "    count_91 = (tbi_data[var] == 91.0).sum()\n",
    "    percent_91 = count_91 / len(tbi_data) * 100\n",
    "    print(f\"- {var}: {count_91} occurrences ({percent_91:.2f}%)\")\n",
    "\n",
    "# Analyze patterns of code 91.0 across age groups\n",
    "if len(code_91_vars) > 0:\n",
    "    # Create age groups if not already present\n",
    "    if 'AgeGroup' not in tbi_data.columns:\n",
    "        tbi_data['AgeGroup'] = pd.cut(\n",
    "            tbi_data['AgeInMonth'],\n",
    "            bins=[0, 24, 60, 120, 240],\n",
    "            labels=['Infant', 'Preschool', 'School Age', 'Adolescent']\n",
    "        )\n",
    "    \n",
    "    # Select a few representative variables with code 91\n",
    "    sample_vars = code_91_vars[:min(5, len(code_91_vars))]\n",
    "    \n",
    "    # Create a plot of code 91 prevalence by age group\n",
    "    plt.figure(figsize=(12, 8))\n",
    "    for i, var in enumerate(sample_vars):\n",
    "        # Create a dataframe with code 91 indicators\n",
    "        df_temp = pd.DataFrame({\n",
    "            'AgeGroup': tbi_data['AgeGroup'],\n",
    "            'Code91': tbi_data[var] == 91.0\n",
    "        })\n",
    "        \n",
    "        # Calculate percentage by age group\n",
    "        pct_by_age = df_temp.groupby('AgeGroup')['Code91'].mean() * 100\n",
    "        \n",
    "        plt.subplot(len(sample_vars), 1, i+1)\n",
    "        sns.barplot(x=pct_by_age.index, y=pct_by_age.values)\n",
    "        plt.title(f'Percentage of Code 91.0 in {var} by Age Group')\n",
    "        plt.ylabel('Percentage')\n",
    "        plt.tight_layout()\n",
    "    \n",
    "    plt.tight_layout()\n",
    "    plt.show()"
   ]
  },
  {
   "cell_type": "code",
   "execution_count": 15,
   "id": "5125d78d-256b-46f8-8a60-4588a4169b32",
   "metadata": {},
   "outputs": [
    {
     "name": "stdout",
     "output_type": "stream",
     "text": [
      "\n",
      "Relationship between CTDone and PosCT:\n"
     ]
    },
    {
     "data": {
      "text/html": [
       "<div>\n",
       "<style scoped>\n",
       "    .dataframe tbody tr th:only-of-type {\n",
       "        vertical-align: middle;\n",
       "    }\n",
       "\n",
       "    .dataframe tbody tr th {\n",
       "        vertical-align: top;\n",
       "    }\n",
       "\n",
       "    .dataframe thead th {\n",
       "        text-align: right;\n",
       "    }\n",
       "</style>\n",
       "<table border=\"1\" class=\"dataframe\">\n",
       "  <thead>\n",
       "    <tr style=\"text-align: right;\">\n",
       "      <th>PosCT</th>\n",
       "      <th>0</th>\n",
       "      <th>1</th>\n",
       "      <th>92</th>\n",
       "      <th>All</th>\n",
       "    </tr>\n",
       "    <tr>\n",
       "      <th>CTDone</th>\n",
       "      <th></th>\n",
       "      <th></th>\n",
       "      <th></th>\n",
       "      <th></th>\n",
       "    </tr>\n",
       "  </thead>\n",
       "  <tbody>\n",
       "    <tr>\n",
       "      <th>0</th>\n",
       "      <td>0</td>\n",
       "      <td>0</td>\n",
       "      <td>27500</td>\n",
       "      <td>27500</td>\n",
       "    </tr>\n",
       "    <tr>\n",
       "      <th>1</th>\n",
       "      <td>14743</td>\n",
       "      <td>1156</td>\n",
       "      <td>0</td>\n",
       "      <td>15899</td>\n",
       "    </tr>\n",
       "    <tr>\n",
       "      <th>All</th>\n",
       "      <td>14743</td>\n",
       "      <td>1156</td>\n",
       "      <td>27500</td>\n",
       "      <td>43399</td>\n",
       "    </tr>\n",
       "  </tbody>\n",
       "</table>\n",
       "</div>"
      ],
      "text/plain": [
       "PosCT       0     1     92    All\n",
       "CTDone                           \n",
       "0           0     0  27500  27500\n",
       "1       14743  1156      0  15899\n",
       "All     14743  1156  27500  43399"
      ]
     },
     "metadata": {},
     "output_type": "display_data"
    },
    {
     "name": "stdout",
     "output_type": "stream",
     "text": [
      "\n",
      "Positive CT rate among patients who had CT scan: 7.27%\n",
      "\n",
      "CT indication variables:\n",
      "\n",
      "IndAge:\n"
     ]
    },
    {
     "data": {
      "text/plain": [
       "IndAge\n",
       "92    26474\n",
       "0     13224\n",
       "1      3701\n",
       "Name: count, dtype: int64"
      ]
     },
     "metadata": {},
     "output_type": "display_data"
    },
    {
     "name": "stdout",
     "output_type": "stream",
     "text": [
      "\n",
      "IndAmnesia:\n"
     ]
    },
    {
     "data": {
      "text/plain": [
       "IndAmnesia\n",
       "92    26474\n",
       "0     14532\n",
       "1      2393\n",
       "Name: count, dtype: int64"
      ]
     },
     "metadata": {},
     "output_type": "display_data"
    },
    {
     "name": "stdout",
     "output_type": "stream",
     "text": [
      "\n",
      "IndAMS:\n"
     ]
    },
    {
     "data": {
      "text/plain": [
       "IndAMS\n",
       "92    26474\n",
       "0     14493\n",
       "1      2432\n",
       "Name: count, dtype: int64"
      ]
     },
     "metadata": {},
     "output_type": "display_data"
    },
    {
     "name": "stdout",
     "output_type": "stream",
     "text": [
      "\n",
      "IndClinSFx:\n"
     ]
    },
    {
     "data": {
      "text/plain": [
       "IndClinSFx\n",
       "92    26474\n",
       "0     16467\n",
       "1       458\n",
       "Name: count, dtype: int64"
      ]
     },
     "metadata": {},
     "output_type": "display_data"
    },
    {
     "name": "stdout",
     "output_type": "stream",
     "text": [
      "\n",
      "IndHA:\n"
     ]
    },
    {
     "data": {
      "text/plain": [
       "IndHA\n",
       "92    26474\n",
       "0     14081\n",
       "1      2844\n",
       "Name: count, dtype: int64"
      ]
     },
     "metadata": {},
     "output_type": "display_data"
    },
    {
     "name": "stdout",
     "output_type": "stream",
     "text": [
      "\n",
      "IndHema:\n"
     ]
    },
    {
     "data": {
      "text/plain": [
       "IndHema\n",
       "92    26474\n",
       "0     14111\n",
       "1      2814\n",
       "Name: count, dtype: int64"
      ]
     },
     "metadata": {},
     "output_type": "display_data"
    },
    {
     "name": "stdout",
     "output_type": "stream",
     "text": [
      "\n",
      "IndLOC:\n"
     ]
    },
    {
     "data": {
      "text/plain": [
       "IndLOC\n",
       "92    26474\n",
       "0     12605\n",
       "1      4320\n",
       "Name: count, dtype: int64"
      ]
     },
     "metadata": {},
     "output_type": "display_data"
    },
    {
     "name": "stdout",
     "output_type": "stream",
     "text": [
      "\n",
      "IndMech:\n"
     ]
    },
    {
     "data": {
      "text/plain": [
       "IndMech\n",
       "92    26474\n",
       "0     10063\n",
       "1      6862\n",
       "Name: count, dtype: int64"
      ]
     },
     "metadata": {},
     "output_type": "display_data"
    },
    {
     "name": "stdout",
     "output_type": "stream",
     "text": [
      "\n",
      "IndNeuroD:\n"
     ]
    },
    {
     "data": {
      "text/plain": [
       "IndNeuroD\n",
       "92    26474\n",
       "0     16451\n",
       "1       474\n",
       "Name: count, dtype: int64"
      ]
     },
     "metadata": {},
     "output_type": "display_data"
    },
    {
     "name": "stdout",
     "output_type": "stream",
     "text": [
      "\n",
      "IndRqstMD:\n"
     ]
    },
    {
     "data": {
      "text/plain": [
       "IndRqstMD\n",
       "92    26474\n",
       "0     16630\n",
       "1       295\n",
       "Name: count, dtype: int64"
      ]
     },
     "metadata": {},
     "output_type": "display_data"
    },
    {
     "name": "stdout",
     "output_type": "stream",
     "text": [
      "\n",
      "IndRqstParent:\n"
     ]
    },
    {
     "data": {
      "text/plain": [
       "IndRqstParent\n",
       "92    26474\n",
       "0     15770\n",
       "1      1155\n",
       "Name: count, dtype: int64"
      ]
     },
     "metadata": {},
     "output_type": "display_data"
    },
    {
     "name": "stdout",
     "output_type": "stream",
     "text": [
      "\n",
      "IndRqstTrauma:\n"
     ]
    },
    {
     "data": {
      "text/plain": [
       "IndRqstTrauma\n",
       "92    26474\n",
       "0     16142\n",
       "1       783\n",
       "Name: count, dtype: int64"
      ]
     },
     "metadata": {},
     "output_type": "display_data"
    },
    {
     "name": "stdout",
     "output_type": "stream",
     "text": [
      "\n",
      "IndSeiz:\n"
     ]
    },
    {
     "data": {
      "text/plain": [
       "IndSeiz\n",
       "92    26474\n",
       "0     16423\n",
       "1       502\n",
       "Name: count, dtype: int64"
      ]
     },
     "metadata": {},
     "output_type": "display_data"
    },
    {
     "name": "stdout",
     "output_type": "stream",
     "text": [
      "\n",
      "IndVomit:\n"
     ]
    },
    {
     "data": {
      "text/plain": [
       "IndVomit\n",
       "92    26474\n",
       "0     13836\n",
       "1      3089\n",
       "Name: count, dtype: int64"
      ]
     },
     "metadata": {},
     "output_type": "display_data"
    },
    {
     "name": "stdout",
     "output_type": "stream",
     "text": [
      "\n",
      "IndXraySFx:\n"
     ]
    },
    {
     "data": {
      "text/plain": [
       "IndXraySFx\n",
       "92    26474\n",
       "0     16876\n",
       "1        49\n",
       "Name: count, dtype: int64"
      ]
     },
     "metadata": {},
     "output_type": "display_data"
    },
    {
     "name": "stdout",
     "output_type": "stream",
     "text": [
      "\n",
      "IndOth:\n"
     ]
    },
    {
     "data": {
      "text/plain": [
       "IndOth\n",
       "92    26474\n",
       "0     14372\n",
       "1      2553\n",
       "Name: count, dtype: int64"
      ]
     },
     "metadata": {},
     "output_type": "display_data"
    }
   ],
   "source": [
    "# Analyze relationships between CT indicators\n",
    "if 'CTDone' in tbi_data.columns and 'PosCT' in tbi_data.columns:\n",
    "    print(\"\\nRelationship between CTDone and PosCT:\")\n",
    "    ct_cross = pd.crosstab(\n",
    "        tbi_data['CTDone'], \n",
    "        tbi_data['PosCT'], \n",
    "        rownames=['CTDone'], \n",
    "        colnames=['PosCT'],\n",
    "        margins=True\n",
    "    )\n",
    "    display(ct_cross)\n",
    "    \n",
    "    # Calculate percentage of positive CTs among those who had CT\n",
    "    if 1 in ct_cross.index:\n",
    "        pos_ct_rate = ct_cross.loc[1, 1] / ct_cross.loc[1, 'All'] * 100\n",
    "        print(f\"\\nPositive CT rate among patients who had CT scan: {pos_ct_rate:.2f}%\")\n",
    "\n",
    "# Look at CT indications (why CT was ordered)\n",
    "ct_ind_cols = [col for col in tbi_data.columns if 'Ind' in col]\n",
    "if ct_ind_cols:\n",
    "    print(\"\\nCT indication variables:\")\n",
    "    for col in ct_ind_cols:\n",
    "        print(f\"\\n{col}:\")\n",
    "        display(tbi_data[col].value_counts(dropna=False))"
   ]
  },
  {
   "cell_type": "code",
   "execution_count": 16,
   "id": "62f6cb96-aa88-486d-a204-ac08a3188d02",
   "metadata": {},
   "outputs": [
    {
     "name": "stdout",
     "output_type": "stream",
     "text": [
      "\n",
      "PECARN clinical decision rule components availability:\n",
      "- GCSTotal: Available\n",
      "  Non-missing: 43399 (100.00%)\n",
      "- LOCSeparate: Available\n",
      "  Non-missing: 41507 (95.64%)\n",
      "- Vomit: Available\n",
      "  Non-missing: 42956 (98.98%)\n",
      "- AMS: Available\n",
      "  Non-missing: 43083 (99.27%)\n",
      "- SFxPalp: Available\n",
      "  Non-missing: 43295 (99.76%)\n",
      "- HASeverity: Available\n",
      "  Non-missing: 42355 (97.59%)\n",
      "- AgeInMonth: Available\n",
      "  Non-missing: 43399 (100.00%)\n",
      "- InjuryMech: Available\n",
      "  Non-missing: 43098 (99.31%)\n",
      "\n",
      "Attempting to implement the PECARN TBI prediction rule...\n",
      "Using existing age stratification variable: AgeTwoPlus\n",
      "\n",
      "Age distribution: <2 years: 0, ≥2 years: 10904\n",
      "\n",
      "This is where we'd implement the full PECARN rule logic...\n"
     ]
    }
   ],
   "source": [
    "# Check if the dataset contains the components of the PECARN rule\n",
    "pecarn_rule_components = [\n",
    "    'GCSTotal', 'LOCSeparate', 'Vomit', 'AMS', 'SFxPalp',\n",
    "    'HASeverity', 'AgeInMonth', 'InjuryMech'\n",
    "]\n",
    "\n",
    "print(\"\\nPECARN clinical decision rule components availability:\")\n",
    "for component in pecarn_rule_components:\n",
    "    if component in tbi_data.columns:\n",
    "        print(f\"- {component}: Available\")\n",
    "        nonmissing = tbi_data[component].notna().sum()\n",
    "        pct_nonmissing = nonmissing / len(tbi_data) * 100\n",
    "        print(f\"  Non-missing: {nonmissing} ({pct_nonmissing:.2f}%)\")\n",
    "    else:\n",
    "        similar_cols = [col for col in tbi_data.columns if component.lower() in col.lower()]\n",
    "        if similar_cols:\n",
    "            print(f\"- {component}: Not found, but similar variables exist: {similar_cols}\")\n",
    "        else:\n",
    "            print(f\"- {component}: Not found\")\n",
    "\n",
    "# Try to implement the PECARN rule to see if it matches CT decisions\n",
    "print(\"\\nAttempting to implement the PECARN TBI prediction rule...\")\n",
    "try:\n",
    "    # Create a copy of the data for rule implementation\n",
    "    rule_data = tbi_data.copy()\n",
    "    \n",
    "    # Check if age group information exists\n",
    "    if 'AgeTwoPlus' in rule_data.columns:\n",
    "        print(\"Using existing age stratification variable: AgeTwoPlus\")\n",
    "    else:\n",
    "        print(\"Creating age stratification variable\")\n",
    "        rule_data['AgeTwoPlus'] = (rule_data['AgeInMonth'] >= 24).astype(int)\n",
    "    \n",
    "    # Display age distribution\n",
    "    age_dist = rule_data['AgeTwoPlus'].value_counts()\n",
    "    print(f\"\\nAge distribution: <2 years: {age_dist.get(0, 0)}, ≥2 years: {age_dist.get(1, 0)}\")\n",
    "    \n",
    "    # Print a preview of the applied rule results (if successful)\n",
    "    print(\"\\nThis is where we'd implement the full PECARN rule logic...\")\n",
    "    \n",
    "except Exception as e:\n",
    "    print(f\"Error implementing rule: {e}\")"
   ]
  },
  {
   "cell_type": "markdown",
   "id": "e0d7c3be-73d3-487c-974c-2e8e2b252ef1",
   "metadata": {},
   "source": [
    "Data preparation after analyzing PECARN documentation:"
   ]
  },
  {
   "cell_type": "code",
   "execution_count": 17,
   "id": "4ef59969-8021-4427-9798-29ee638f2092",
   "metadata": {},
   "outputs": [
    {
     "name": "stdout",
     "output_type": "stream",
     "text": [
      "Total patients: 43399\n",
      "Patients who received CT: 15899\n",
      "Patients with positive CT: 1156\n",
      "\n",
      "CT scan rate by PECARN risk category:\n"
     ]
    },
    {
     "data": {
      "text/html": [
       "<div>\n",
       "<style scoped>\n",
       "    .dataframe tbody tr th:only-of-type {\n",
       "        vertical-align: middle;\n",
       "    }\n",
       "\n",
       "    .dataframe tbody tr th {\n",
       "        vertical-align: top;\n",
       "    }\n",
       "\n",
       "    .dataframe thead th {\n",
       "        text-align: right;\n",
       "    }\n",
       "</style>\n",
       "<table border=\"1\" class=\"dataframe\">\n",
       "  <thead>\n",
       "    <tr style=\"text-align: right;\">\n",
       "      <th>Received_CT</th>\n",
       "      <th>False</th>\n",
       "      <th>True</th>\n",
       "    </tr>\n",
       "    <tr>\n",
       "      <th>PECARN_Risk</th>\n",
       "      <th></th>\n",
       "      <th></th>\n",
       "    </tr>\n",
       "  </thead>\n",
       "  <tbody>\n",
       "    <tr>\n",
       "      <th>High risk</th>\n",
       "      <td>12.878788</td>\n",
       "      <td>87.121212</td>\n",
       "    </tr>\n",
       "    <tr>\n",
       "      <th>Intermediate risk</th>\n",
       "      <td>70.207400</td>\n",
       "      <td>29.792600</td>\n",
       "    </tr>\n",
       "    <tr>\n",
       "      <th>Low risk</th>\n",
       "      <td>86.115007</td>\n",
       "      <td>13.884993</td>\n",
       "    </tr>\n",
       "  </tbody>\n",
       "</table>\n",
       "</div>"
      ],
      "text/plain": [
       "Received_CT            False      True \n",
       "PECARN_Risk                            \n",
       "High risk          12.878788  87.121212\n",
       "Intermediate risk  70.207400  29.792600\n",
       "Low risk           86.115007  13.884993"
      ]
     },
     "metadata": {},
     "output_type": "display_data"
    },
    {
     "data": {
      "image/png": "[encoded data removed]",
      "text/plain": [
       "<Figure size 1000x600 with 1 Axes>"
      ]
     },
     "metadata": {},
     "output_type": "display_data"
    }
   ],
   "source": [
    "import pandas as pd\n",
    "import numpy as np\n",
    "import matplotlib.pyplot as plt\n",
    "import seaborn as sns\n",
    "\n",
    "# Load the dataset if not already loaded\n",
    "data_path = '/Users/andrechu/Desktop/UnivUtah/BMI6016/PEACARN/Data/TBI PUD 10-08-2013.csv'\n",
    "tbi_data = pd.read_csv(data_path)\n",
    "\n",
    "# Create a cleaned version with proper handling of special codes\n",
    "tbi_clean = tbi_data.copy()\n",
    "\n",
    "# 1. Properly handle special codes for key clinical variables\n",
    "def recode_special_values(df, var_name, special_codes_map, default_na_value=np.nan):\n",
    "    \"\"\"\n",
    "    Recodes special values in variables based on provided mapping\n",
    "    \n",
    "    Parameters:\n",
    "    - df: DataFrame containing the data\n",
    "    - var_name: Name of the variable to recode\n",
    "    - special_codes_map: Dictionary mapping special codes to their meaning\n",
    "    - default_na_value: Value to use for NaN values if not in mapping\n",
    "    \n",
    "    Returns:\n",
    "    - Series with recoded values\n",
    "    \"\"\"\n",
    "    if var_name not in df.columns:\n",
    "        return None\n",
    "        \n",
    "    # Create a copy of the variable\n",
    "    recoded = df[var_name].copy()\n",
    "    \n",
    "    # Recode special values\n",
    "    for code, meaning in special_codes_map.items():\n",
    "        recoded = recoded.replace(code, meaning)\n",
    "    \n",
    "    # Handle NaN values if not in mapping\n",
    "    if np.nan not in special_codes_map and default_na_value is not None:\n",
    "        recoded = recoded.fillna(default_na_value)\n",
    "        \n",
    "    return recoded\n",
    "\n",
    "# Define special code mappings for key variables\n",
    "symptom_map = {\n",
    "    0.0: 'Absent',\n",
    "    1.0: 'Present',\n",
    "    91.0: 'Unable to assess',\n",
    "    np.nan: 'Not documented'\n",
    "}\n",
    "\n",
    "ct_result_map = {\n",
    "    0.0: 'Negative',\n",
    "    1.0: 'Positive',\n",
    "    92.0: 'No CT performed',\n",
    "    np.nan: 'Unknown'\n",
    "}\n",
    "\n",
    "loc_map = {\n",
    "    0.0: 'No LOC',\n",
    "    1.0: 'Brief LOC (<5 min)',\n",
    "    2.0: 'Prolonged LOC (≥5 min)',\n",
    "    np.nan: 'Not documented'\n",
    "}\n",
    "\n",
    "# Apply recoding to key variables\n",
    "tbi_clean['Amnesia_cat'] = recode_special_values(tbi_data, 'Amnesia_verb', symptom_map)\n",
    "tbi_clean['Headache_cat'] = recode_special_values(tbi_data, 'HA_verb', symptom_map)\n",
    "tbi_clean['LOC_cat'] = recode_special_values(tbi_data, 'LOCSeparate', loc_map)\n",
    "tbi_clean['Vomit_cat'] = recode_special_values(tbi_data, 'Vomit', symptom_map)\n",
    "tbi_clean['CT_Result'] = recode_special_values(tbi_data, 'PosCT', ct_result_map)\n",
    "\n",
    "# 2. Create proper CT scan indicator (correcting the previous error)\n",
    "tbi_clean['Received_CT'] = tbi_data['CTDone'] == 1\n",
    "\n",
    "# 3. Create age groups\n",
    "tbi_clean['Age_Group'] = pd.cut(\n",
    "    tbi_data['AgeInMonth'],\n",
    "    bins=[0, 24, 60, 120, 240],\n",
    "    labels=['<2 years', '2-5 years', '5-10 years', '>10 years']\n",
    ")\n",
    "\n",
    "# 4. Create PECARN risk groups based on clinical criteria\n",
    "# For children ≥2 years\n",
    "mask_older = tbi_clean['Age_Group'] != '<2 years'\n",
    "tbi_clean.loc[mask_older, 'PECARN_Risk'] = 'Low risk'\n",
    "\n",
    "# Altered mental status or signs of skull fracture would make it not low risk\n",
    "mask_ams = (tbi_data['AMS'] == 1)\n",
    "mask_skull_fx = (tbi_data['SFxPalp'] == 1)\n",
    "mask_severe_mechanism = (tbi_data['High_impact_InjSev'] >= 2)\n",
    "mask_loc = (tbi_data['LOCSeparate'] > 0)\n",
    "mask_vomit = (tbi_data['Vomit'] == 1)\n",
    "mask_severe_headache = (tbi_data['HASeverity'] >= 2)\n",
    "\n",
    "# Assign risk categories based on PECARN rule for ≥2 years\n",
    "tbi_clean.loc[mask_older & (mask_ams | mask_skull_fx), 'PECARN_Risk'] = 'High risk'\n",
    "tbi_clean.loc[mask_older & ~(mask_ams | mask_skull_fx) & \n",
    "              (mask_loc | mask_severe_headache | mask_vomit | mask_severe_mechanism), \n",
    "              'PECARN_Risk'] = 'Intermediate risk'\n",
    "\n",
    "# Similar logic could be implemented for <2 years but with different criteria\n",
    "\n",
    "# 5. Prepare datasets for two-stage modeling\n",
    "# Dataset for CT decision model (all patients)\n",
    "ct_decision_vars = [\n",
    "    'Age_Group', 'GCSTotal', 'LOC_cat', 'Vomit_cat', 'Amnesia_cat', \n",
    "    'Headache_cat', 'High_impact_InjSev', 'SFxPalp', 'AMS', 'PECARN_Risk',\n",
    "    'Received_CT'\n",
    "]\n",
    "ct_decision_data = tbi_clean[ct_decision_vars].copy()\n",
    "\n",
    "# Dataset for CT findings model (only patients who received CT)\n",
    "ct_finding_vars = [\n",
    "    'Age_Group', 'GCSTotal', 'LOC_cat', 'Vomit_cat', 'Amnesia_cat', \n",
    "    'Headache_cat', 'High_impact_InjSev', 'SFxPalp', 'AMS', 'PECARN_Risk',\n",
    "    'CT_Result'\n",
    "]\n",
    "ct_finding_data = tbi_clean[tbi_clean['Received_CT']][ct_finding_vars].copy()\n",
    "ct_finding_data = ct_finding_data[ct_finding_data['CT_Result'].isin(['Positive', 'Negative'])]\n",
    "\n",
    "# Print summary statistics\n",
    "print(f\"Total patients: {len(tbi_clean)}\")\n",
    "print(f\"Patients who received CT: {len(tbi_clean[tbi_clean['Received_CT']])}\")\n",
    "print(f\"Patients with positive CT: {len(tbi_clean[tbi_clean['CT_Result'] == 'Positive'])}\")\n",
    "\n",
    "# Analyze relationship between PECARN risk and CT scan decision\n",
    "risk_ct_table = pd.crosstab(\n",
    "    tbi_clean['PECARN_Risk'], \n",
    "    tbi_clean['Received_CT'], \n",
    "    normalize='index'\n",
    ") * 100\n",
    "\n",
    "print(\"\\nCT scan rate by PECARN risk category:\")\n",
    "display(risk_ct_table)\n",
    "\n",
    "# Visualize relationship\n",
    "plt.figure(figsize=(10, 6))\n",
    "sns.countplot(x='PECARN_Risk', hue='CT_Result', data=tbi_clean)\n",
    "plt.title('CT Results by PECARN Risk Category')\n",
    "plt.xlabel('PECARN Risk Category')\n",
    "plt.ylabel('Count')\n",
    "plt.tight_layout()\n",
    "plt.show()"
   ]
  },
  {
   "cell_type": "markdown",
   "id": "5e0167a6-5bea-479e-b505-d63b698dfc83",
   "metadata": {},
   "source": [
    "Prototype: ct decision model:"
   ]
  },
  {
   "cell_type": "code",
   "execution_count": 21,
   "id": "e0d8d41c-5b2a-4ca4-ad56-8b10c60fdf65",
   "metadata": {},
   "outputs": [
    {
     "name": "stdout",
     "output_type": "stream",
     "text": [
      "Numeric features: ['GCSTotal', 'High_impact_InjSev', 'SFxPalp', 'AMS']\n",
      "Categorical features: ['Age_Group', 'LOC_cat', 'Vomit_cat', 'Amnesia_cat', 'Headache_cat', 'PECARN_Risk']\n",
      "\n",
      "Classification Report - CT Decision Model:\n",
      "              precision    recall  f1-score   support\n",
      "\n",
      "       False       0.83      0.89      0.86      8250\n",
      "        True       0.78      0.68      0.73      4770\n",
      "\n",
      "    accuracy                           0.82     13020\n",
      "   macro avg       0.81      0.79      0.79     13020\n",
      "weighted avg       0.81      0.82      0.81     13020\n",
      "\n"
     ]
    },
    {
     "data": {
      "image/png": "[encoded data removed]",
      "text/plain": [
       "<Figure size 800x600 with 1 Axes>"
      ]
     },
     "metadata": {},
     "output_type": "display_data"
    },
    {
     "name": "stdout",
     "output_type": "stream",
     "text": [
      "\n",
      "At threshold 0.3:\n",
      "Sensitivity: 0.8193\n",
      "Specificity: 0.7737\n",
      "CT scans that would be ordered: 5775 (44.4%)\n",
      "\n",
      "Random Forest Model Results:\n",
      "              precision    recall  f1-score   support\n",
      "\n",
      "       False       0.83      0.90      0.86      8250\n",
      "        True       0.79      0.67      0.73      4770\n",
      "\n",
      "    accuracy                           0.82     13020\n",
      "   macro avg       0.81      0.79      0.80     13020\n",
      "weighted avg       0.81      0.82      0.81     13020\n",
      "\n",
      "\n",
      "Top 10 Features for CT Decision (Random Forest):\n",
      "                          Feature  Importance\n",
      "9                  LOC_cat_No LOC    0.203434\n",
      "3                             AMS    0.160781\n",
      "23          PECARN_Risk_High risk    0.093263\n",
      "8      LOC_cat_Brief LOC (<5 min)    0.082101\n",
      "17            Amnesia_cat_Present    0.064771\n",
      "12               Vomit_cat_Absent    0.061889\n",
      "24  PECARN_Risk_Intermediate risk    0.054906\n",
      "14              Vomit_cat_Present    0.054606\n",
      "1              High_impact_InjSev    0.036549\n",
      "0                        GCSTotal    0.030548\n"
     ]
    }
   ],
   "source": [
    "import pandas as pd\n",
    "import numpy as np\n",
    "from sklearn.model_selection import train_test_split\n",
    "from sklearn.ensemble import GradientBoostingClassifier, RandomForestClassifier\n",
    "from sklearn.metrics import classification_report, confusion_matrix, roc_curve, auc\n",
    "from sklearn.impute import SimpleImputer\n",
    "from sklearn.pipeline import Pipeline\n",
    "from sklearn.compose import ColumnTransformer\n",
    "from sklearn.preprocessing import StandardScaler, OneHotEncoder\n",
    "import matplotlib.pyplot as plt\n",
    "\n",
    "# Assuming ct_decision_data is already prepared from previous steps\n",
    "# Make sure it contains properly recoded categorical variables\n",
    "\n",
    "# Identify numeric and categorical columns\n",
    "numeric_features = ct_decision_data.select_dtypes(include=['int64', 'float64']).columns.tolist()\n",
    "numeric_features = [col for col in numeric_features if col != 'Received_CT']  # Remove target\n",
    "\n",
    "categorical_features = ct_decision_data.select_dtypes(include=['object', 'category']).columns.tolist()\n",
    "categorical_features = [col for col in categorical_features if col != 'Received_CT']  # Remove target if categorical\n",
    "\n",
    "print(f\"Numeric features: {numeric_features}\")\n",
    "print(f\"Categorical features: {categorical_features}\")\n",
    "\n",
    "# Create preprocessors for numeric and categorical features\n",
    "numeric_transformer = Pipeline(steps=[\n",
    "    ('imputer', SimpleImputer(strategy='median')),\n",
    "    ('scaler', StandardScaler())\n",
    "])\n",
    "\n",
    "categorical_transformer = Pipeline(steps=[\n",
    "    ('imputer', SimpleImputer(strategy='most_frequent')),\n",
    "    ('onehot', OneHotEncoder(handle_unknown='ignore'))\n",
    "])\n",
    "\n",
    "# Create a preprocessing pipeline\n",
    "preprocessor = ColumnTransformer(transformers=[\n",
    "    ('num', numeric_transformer, numeric_features),\n",
    "    ('cat', categorical_transformer, categorical_features)\n",
    "])\n",
    "\n",
    "# Split into features and target\n",
    "X = ct_decision_data.drop('Received_CT', axis=1)\n",
    "y = ct_decision_data['Received_CT']\n",
    "\n",
    "# Split the data\n",
    "X_train, X_test, y_train, y_test = train_test_split(\n",
    "    X, y, test_size=0.3, random_state=42, stratify=y\n",
    ")\n",
    "\n",
    "# Create the full pipeline with the classifier\n",
    "ct_decision_pipeline = Pipeline(steps=[\n",
    "    ('preprocessor', preprocessor),\n",
    "    ('classifier', GradientBoostingClassifier(n_estimators=200, learning_rate=0.1, max_depth=5, random_state=42))\n",
    "])\n",
    "\n",
    "# Train the pipeline\n",
    "ct_decision_pipeline.fit(X_train, y_train)\n",
    "\n",
    "# Evaluate the model\n",
    "y_pred = ct_decision_pipeline.predict(X_test)\n",
    "y_pred_proba = ct_decision_pipeline.predict_proba(X_test)[:, 1]\n",
    "\n",
    "print(\"\\nClassification Report - CT Decision Model:\")\n",
    "print(classification_report(y_test, y_pred))\n",
    "\n",
    "# Plot ROC curve\n",
    "fpr, tpr, _ = roc_curve(y_test, y_pred_proba)\n",
    "roc_auc = auc(fpr, tpr)\n",
    "\n",
    "plt.figure(figsize=(8, 6))\n",
    "plt.plot(fpr, tpr, color='darkorange', lw=2, label=f'ROC curve (area = {roc_auc:.2f})')\n",
    "plt.plot([0, 1], [0, 1], color='navy', lw=2, linestyle='--')\n",
    "plt.xlim([0.0, 1.0])\n",
    "plt.ylim([0.0, 1.05])\n",
    "plt.xlabel('False Positive Rate')\n",
    "plt.ylabel('True Positive Rate')\n",
    "plt.title('ROC Curve for CT Decision Model')\n",
    "plt.legend(loc=\"lower right\")\n",
    "plt.show()\n",
    "\n",
    "# Calculate clinical metrics\n",
    "# For a CT decision rule, we want high sensitivity\n",
    "threshold = 0.3  # Adjust based on desired sensitivity/specificity balance\n",
    "y_pred_adjusted = (y_pred_proba >= threshold).astype(int)\n",
    "sensitivity = (y_pred_adjusted & y_test.values).sum() / y_test.sum()\n",
    "specificity = (~y_pred_adjusted & ~y_test.values).sum() / (~y_test).sum()\n",
    "\n",
    "print(f\"\\nAt threshold {threshold}:\")\n",
    "print(f\"Sensitivity: {sensitivity:.4f}\")\n",
    "print(f\"Specificity: {specificity:.4f}\")\n",
    "print(f\"CT scans that would be ordered: {y_pred_adjusted.sum()} ({y_pred_adjusted.sum()/len(y_test)*100:.1f}%)\")\n",
    "\n",
    "# For comparison, train a Random Forest model too (often performs well with medical data)\n",
    "rf_pipeline = Pipeline(steps=[\n",
    "    ('preprocessor', preprocessor),\n",
    "    ('classifier', RandomForestClassifier(n_estimators=200, max_depth=10, random_state=42))\n",
    "])\n",
    "\n",
    "rf_pipeline.fit(X_train, y_train)\n",
    "rf_pred = rf_pipeline.predict(X_test)\n",
    "rf_pred_proba = rf_pipeline.predict_proba(X_test)[:, 1]\n",
    "\n",
    "print(\"\\nRandom Forest Model Results:\")\n",
    "print(classification_report(y_test, rf_pred))\n",
    "\n",
    "# Fixed feature importance extraction function\n",
    "def get_feature_importance_from_pipeline(pipeline, categorical_features, numeric_features):\n",
    "    \"\"\"\n",
    "    Extract feature importance from a sklearn pipeline with categorical features\n",
    "    \n",
    "    Parameters:\n",
    "    - pipeline: Trained pipeline with preprocessor and classifier\n",
    "    - categorical_features: List of categorical feature names\n",
    "    - numeric_features: List of numeric feature names\n",
    "    \n",
    "    Returns:\n",
    "    - DataFrame with feature names and importance values\n",
    "    \"\"\"\n",
    "    # Get the classifier\n",
    "    classifier = pipeline.named_steps['classifier']\n",
    "    \n",
    "    # Get the preprocessor\n",
    "    preprocessor = pipeline.named_steps['preprocessor']\n",
    "    \n",
    "    # Get the one-hot encoder\n",
    "    ohe = preprocessor.transformers_[1][1].named_steps['onehot']\n",
    "    \n",
    "    # Get transformed feature names for categorical variables\n",
    "    cat_feature_names = ohe.get_feature_names_out(input_features=categorical_features)\n",
    "    \n",
    "    # Combine with numeric features\n",
    "    feature_names = np.array(numeric_features + list(cat_feature_names))\n",
    "    \n",
    "    # Get feature importances\n",
    "    importances = classifier.feature_importances_\n",
    "    \n",
    "    # Create a DataFrame for visualization\n",
    "    feature_importance = pd.DataFrame({\n",
    "        'Feature': feature_names,\n",
    "        'Importance': importances\n",
    "    }).sort_values('Importance', ascending=False)\n",
    "    \n",
    "    return feature_importance\n",
    "\n",
    "# Use the fixed function to get feature importance\n",
    "try:\n",
    "    feature_importance = get_feature_importance_from_pipeline(\n",
    "        rf_pipeline, categorical_features, numeric_features)\n",
    "    print(\"\\nTop 10 Features for CT Decision (Random Forest):\")\n",
    "    print(feature_importance.head(10))\n",
    "except Exception as e:\n",
    "    print(f\"Feature importance extraction had an issue: {e}\")\n",
    "    \n",
    "    # Alternative approach: analyze feature importance by category\n",
    "    print(\"\\nAnalyzing feature importance by category:\")\n",
    "    \n",
    "    # Check importance of numeric features directly\n",
    "    for num_feature in numeric_features:\n",
    "        corr = ct_decision_data[num_feature].corr(ct_decision_data['Received_CT'].astype(int))\n",
    "        print(f\"{num_feature}: correlation with CT decision = {corr:.4f}\")\n",
    "    \n",
    "    # Check importance of categorical features through CT rates\n",
    "    for cat_feature in categorical_features:\n",
    "        print(f\"\\nCT rate by {cat_feature}:\")\n",
    "        ct_rate = pd.crosstab(ct_decision_data[cat_feature], \n",
    "                             ct_decision_data['Received_CT'], \n",
    "                             normalize='index')['True'] * 100\n",
    "        print(ct_rate.sort_values(ascending=False))"
   ]
  },
  {
   "cell_type": "markdown",
   "id": "fd01b3aa-274f-4130-91fe-c8731becde4e",
   "metadata": {},
   "source": [
    "stage 2: predicting positive CT findings"
   ]
  },
  {
   "cell_type": "code",
   "execution_count": 23,
   "id": "53c9f33b-ea56-44c5-89c1-ad34a853b44a",
   "metadata": {},
   "outputs": [
    {
     "name": "stdout",
     "output_type": "stream",
     "text": [
      "\n",
      "Columns available in CT findings dataset:\n",
      "['Age_Group', 'GCSTotal', 'LOC_cat', 'Vomit_cat', 'Amnesia_cat', 'Headache_cat', 'High_impact_InjSev', 'SFxPalp', 'AMS', 'PECARN_Risk', 'Received_CT']\n",
      "\n",
      "Merging CT result data from original dataset...\n",
      "WARNING: Cannot merge CT results - PatNum column not available\n",
      "Creating synthetic target for demonstration purposes only\n",
      "\n",
      "Positive CT rate: 7.14% (1135 out of 15899)\n",
      "\n",
      "Numeric features for CT findings model: ['GCSTotal', 'High_impact_InjSev', 'SFxPalp', 'AMS']\n",
      "Categorical features for CT findings model: ['Age_Group', 'LOC_cat', 'Vomit_cat', 'Amnesia_cat', 'Headache_cat']\n",
      "\n",
      "Training set size: 11924, Test set size: 3975\n",
      "Positive cases in training: 851 (7.14%)\n",
      "Positive cases in testing: 284 (7.14%)\n",
      "\n",
      "Classification Report - Positive CT Model:\n",
      "              precision    recall  f1-score   support\n",
      "\n",
      "       False       0.92      0.71      0.80      3691\n",
      "        True       0.06      0.25      0.10       284\n",
      "\n",
      "    accuracy                           0.68      3975\n",
      "   macro avg       0.49      0.48      0.45      3975\n",
      "weighted avg       0.86      0.68      0.75      3975\n",
      "\n"
     ]
    },
    {
     "data": {
      "image/png": "[encoded data removed]",
      "text/plain": [
       "<Figure size 800x600 with 1 Axes>"
      ]
     },
     "metadata": {},
     "output_type": "display_data"
    },
    {
     "name": "stdout",
     "output_type": "stream",
     "text": [
      "\n",
      "Performance at different probability thresholds:\n",
      "Threshold 0.1: Sensitivity = 1.0000, Specificity = 0.0000, Precision = 0.0714\n",
      "Threshold 0.2: Sensitivity = 1.0000, Specificity = 0.0008, Precision = 0.0715\n",
      "Threshold 0.3: Sensitivity = 0.9718, Specificity = 0.0173, Precision = 0.0707\n",
      "Threshold 0.4: Sensitivity = 0.8451, Specificity = 0.1244, Precision = 0.0691\n",
      "Threshold 0.5: Sensitivity = 0.2500, Specificity = 0.7079, Precision = 0.0618\n",
      "\n",
      "Top 10 Features for Positive CT Prediction:\n",
      "                       Feature  Importance\n",
      "0                     GCSTotal    0.112082\n",
      "1           High_impact_InjSev    0.102454\n",
      "3                          AMS    0.062715\n",
      "2                      SFxPalp    0.054956\n",
      "12            Vomit_cat_Absent    0.046169\n",
      "7          Age_Group_>10 years    0.042755\n",
      "5         Age_Group_5-10 years    0.041162\n",
      "14           Vomit_cat_Present    0.040941\n",
      "16  Amnesia_cat_Not documented    0.039668\n",
      "4          Age_Group_2-5 years    0.038459\n"
     ]
    }
   ],
   "source": [
    "# Prepare data for the second stage model (predicting positive CT findings)\n",
    "# Only use data from patients who received CT scans\n",
    "ct_finding_data = ct_decision_data[ct_decision_data['Received_CT'] == True].copy()\n",
    "\n",
    "# First, check what columns we actually have\n",
    "print(\"\\nColumns available in CT findings dataset:\")\n",
    "print(ct_finding_data.columns.tolist())\n",
    "\n",
    "# Ensure we have a target variable for positive CT findings\n",
    "if 'CT_Result' not in ct_finding_data.columns:\n",
    "    # Check if we have the original TBI dataset with CT result information\n",
    "    if 'tbi_data' in globals() and 'CTDone' in tbi_data.columns and 'PosCT' in tbi_data.columns:\n",
    "        print(\"\\nMerging CT result data from original dataset...\")\n",
    "        # Create a mapping dataframe with PatNum and CT result\n",
    "        if 'PatNum' in tbi_data.columns and 'PatNum' in ct_finding_data.columns:\n",
    "            ct_results = tbi_data[['PatNum', 'PosCT']].copy()\n",
    "            ct_results['CT_Result'] = ct_results['PosCT'].apply(\n",
    "                lambda x: 'Positive' if x == 1 else 'Negative' if x == 0 else 'Unknown'\n",
    "            )\n",
    "            ct_finding_data = ct_finding_data.merge(ct_results[['PatNum', 'CT_Result']], on='PatNum', how='left')\n",
    "        else:\n",
    "            print(\"WARNING: Cannot merge CT results - PatNum column not available\")\n",
    "            # Create a dummy target for illustration purposes only\n",
    "            print(\"Creating synthetic target for demonstration purposes only\")\n",
    "            # This is only for demonstration - replace with actual data in production\n",
    "            np.random.seed(42)\n",
    "            ct_finding_data['CT_Result'] = np.random.choice(\n",
    "                ['Positive', 'Negative'], \n",
    "                size=len(ct_finding_data),\n",
    "                p=[0.07, 0.93]  # Approximate distribution from real data\n",
    "            )\n",
    "    else:\n",
    "        print(\"WARNING: No CT result data available - creating synthetic data for demonstration\")\n",
    "        # Create a synthetic target variable for demonstration purposes\n",
    "        np.random.seed(42)\n",
    "        ct_finding_data['CT_Result'] = np.random.choice(\n",
    "            ['Positive', 'Negative'], \n",
    "            size=len(ct_finding_data),\n",
    "            p=[0.07, 0.93]  # Approximate distribution from real data\n",
    "        )\n",
    "\n",
    "# Create binary target for positive findings\n",
    "ct_finding_data['Positive_CT'] = (ct_finding_data['CT_Result'] == 'Positive')\n",
    "\n",
    "# Check class distribution\n",
    "positive_rate = ct_finding_data['Positive_CT'].mean() * 100\n",
    "print(f\"\\nPositive CT rate: {positive_rate:.2f}% ({ct_finding_data['Positive_CT'].sum()} out of {len(ct_finding_data)})\")\n",
    "\n",
    "# Split features and target\n",
    "# Remove any columns that shouldn't be features\n",
    "columns_to_drop = ['Received_CT', 'CT_Result', 'Positive_CT', 'PECARN_Risk', 'PatNum']\n",
    "columns_to_drop = [col for col in columns_to_drop if col in ct_finding_data.columns]\n",
    "X_findings = ct_finding_data.drop(columns_to_drop, axis=1)\n",
    "y_findings = ct_finding_data['Positive_CT']\n",
    "\n",
    "# Identify numeric and categorical columns again\n",
    "numeric_features_f = X_findings.select_dtypes(include=['int64', 'float64']).columns.tolist()\n",
    "categorical_features_f = X_findings.select_dtypes(include=['object', 'category']).columns.tolist()\n",
    "\n",
    "print(f\"\\nNumeric features for CT findings model: {numeric_features_f}\")\n",
    "print(f\"Categorical features for CT findings model: {categorical_features_f}\")\n",
    "\n",
    "# Create preprocessing pipeline\n",
    "numeric_transformer_f = Pipeline(steps=[\n",
    "    ('imputer', SimpleImputer(strategy='median')),\n",
    "    ('scaler', StandardScaler())\n",
    "])\n",
    "\n",
    "categorical_transformer_f = Pipeline(steps=[\n",
    "    ('imputer', SimpleImputer(strategy='most_frequent')),\n",
    "    ('onehot', OneHotEncoder(handle_unknown='ignore'))\n",
    "])\n",
    "\n",
    "preprocessor_f = ColumnTransformer(transformers=[\n",
    "    ('num', numeric_transformer_f, numeric_features_f),\n",
    "    ('cat', categorical_transformer_f, categorical_features_f)\n",
    "])\n",
    "\n",
    "# Split the data - note the higher test size due to smaller dataset\n",
    "X_train_f, X_test_f, y_train_f, y_test_f = train_test_split(\n",
    "    X_findings, y_findings, test_size=0.25, random_state=42, stratify=y_findings\n",
    ")\n",
    "\n",
    "print(f\"\\nTraining set size: {len(X_train_f)}, Test set size: {len(X_test_f)}\")\n",
    "print(f\"Positive cases in training: {sum(y_train_f)} ({sum(y_train_f)/len(y_train_f)*100:.2f}%)\")\n",
    "print(f\"Positive cases in testing: {sum(y_test_f)} ({sum(y_test_f)/len(y_test_f)*100:.2f}%)\")\n",
    "\n",
    "# Create pipeline with Random Forest (with class balancing since positive CTs are minority)\n",
    "ct_findings_pipeline = Pipeline(steps=[\n",
    "    ('preprocessor', preprocessor_f),\n",
    "    ('classifier', RandomForestClassifier(\n",
    "        n_estimators=300, \n",
    "        max_depth=8, \n",
    "        min_samples_leaf=5,\n",
    "        class_weight='balanced',\n",
    "        random_state=42\n",
    "    ))\n",
    "])\n",
    "\n",
    "# Train the model\n",
    "ct_findings_pipeline.fit(X_train_f, y_train_f)\n",
    "\n",
    "# Evaluate\n",
    "y_pred_f = ct_findings_pipeline.predict(X_test_f)\n",
    "y_pred_proba_f = ct_findings_pipeline.predict_proba(X_test_f)[:, 1]\n",
    "\n",
    "print(\"\\nClassification Report - Positive CT Model:\")\n",
    "print(classification_report(y_test_f, y_pred_f))\n",
    "\n",
    "# Plot ROC curve\n",
    "fpr_f, tpr_f, _ = roc_curve(y_test_f, y_pred_proba_f)\n",
    "roc_auc_f = auc(fpr_f, tpr_f)\n",
    "\n",
    "plt.figure(figsize=(8, 6))\n",
    "plt.plot(fpr_f, tpr_f, color='darkorange', lw=2, label=f'ROC curve (area = {roc_auc_f:.2f})')\n",
    "plt.plot([0, 1], [0, 1], color='navy', lw=2, linestyle='--')\n",
    "plt.xlim([0.0, 1.0])\n",
    "plt.ylim([0.0, 1.05])\n",
    "plt.xlabel('False Positive Rate')\n",
    "plt.ylabel('True Positive Rate')\n",
    "plt.title('ROC Curve for Positive CT Findings Model')\n",
    "plt.legend(loc=\"lower right\")\n",
    "plt.show()\n",
    "\n",
    "# Since we care about high sensitivity for TBI, let's examine different thresholds\n",
    "print(\"\\nPerformance at different probability thresholds:\")\n",
    "thresholds = [0.1, 0.2, 0.3, 0.4, 0.5]\n",
    "for threshold in thresholds:\n",
    "    pred_at_threshold = (y_pred_proba_f >= threshold).astype(int)\n",
    "    sens = np.sum((pred_at_threshold == 1) & (y_test_f == 1)) / np.sum(y_test_f == 1)\n",
    "    spec = np.sum((pred_at_threshold == 0) & (y_test_f == 0)) / np.sum(y_test_f == 0)\n",
    "    precision = np.sum((pred_at_threshold == 1) & (y_test_f == 1)) / max(np.sum(pred_at_threshold == 1), 1)\n",
    "    \n",
    "    print(f\"Threshold {threshold}: Sensitivity = {sens:.4f}, Specificity = {spec:.4f}, Precision = {precision:.4f}\")\n",
    "\n",
    "# Extract feature importance for the positive CT findings model\n",
    "try:\n",
    "    feature_importance_f = get_feature_importance_from_pipeline(\n",
    "        ct_findings_pipeline, categorical_features_f, numeric_features_f)\n",
    "    print(\"\\nTop 10 Features for Positive CT Prediction:\")\n",
    "    print(feature_importance_f.head(10))\n",
    "except Exception as e:\n",
    "    print(f\"\\nFeature importance extraction had an issue: {e}\")\n",
    "    \n",
    "    # Alternative approach: univariate analysis\n",
    "    print(\"\\nAnalyzing features for positive CT findings:\")\n",
    "    \n",
    "    # Check numeric features association with positive CT\n",
    "    for feature in numeric_features_f:\n",
    "        pos_mean = ct_finding_data[ct_finding_data['Positive_CT']][feature].mean()\n",
    "        neg_mean = ct_finding_data[~ct_finding_data['Positive_CT']][feature].mean()\n",
    "        print(f\"{feature}: Positive CT mean = {pos_mean:.2f}, Negative CT mean = {neg_mean:.2f}\")\n",
    "    \n",
    "    # Check categorical features\n",
    "    for feature in categorical_features_f:\n",
    "        print(f\"\\nPositive CT rate by {feature}:\")\n",
    "        pos_rate = pd.crosstab(\n",
    "            ct_finding_data[feature], \n",
    "            ct_finding_data['Positive_CT'], \n",
    "            normalize='index'\n",
    "        )[True] * 100\n",
    "        print(pos_rate.sort_values(ascending=False))"
   ]
  },
  {
   "cell_type": "code",
   "execution_count": null,
   "id": "1935511f-5329-4850-939d-a7e9c3a8e22e",
   "metadata": {},
   "outputs": [],
   "source": []
  }
 ],
 "metadata": {
  "kernelspec": {
   "display_name": "Python 3 (ipykernel)",
   "language": "python",
   "name": "python3"
  },
  "language_info": {
   "codemirror_mode": {
    "name": "ipython",
    "version": 3
   },
   "file_extension": ".py",
   "mimetype": "text/x-python",
   "name": "python",
   "nbconvert_exporter": "python",
   "pygments_lexer": "ipython3",
   "version": "3.12.2"
  }
 },
 "nbformat": 4,
 "nbformat_minor": 5
}
